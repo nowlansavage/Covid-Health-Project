{
 "cells": [
  {
   "cell_type": "code",
   "execution_count": 65,
   "metadata": {},
   "outputs": [],
   "source": [
    "\n",
    "import matplotlib.pyplot as plt\n",
    "import pandas as pd\n",
    "import numpy as np\n",
    "import os\n",
    "from pprint import pprint\n",
    "import plotly.graph_objects as go\n",
    "import scipy.stats as sts\n",
    "\n",
    "from census import Census\n",
    "\n",
    "# Census API Key\n",
    "from config import api_key\n",
    "c = Census(api_key, year=2018)"
   ]
  },
  {
   "cell_type": "code",
   "execution_count": 66,
   "metadata": {},
   "outputs": [
    {
     "data": {
      "text/html": [
       "<div>\n",
       "<style scoped>\n",
       "    .dataframe tbody tr th:only-of-type {\n",
       "        vertical-align: middle;\n",
       "    }\n",
       "\n",
       "    .dataframe tbody tr th {\n",
       "        vertical-align: top;\n",
       "    }\n",
       "\n",
       "    .dataframe thead th {\n",
       "        text-align: right;\n",
       "    }\n",
       "</style>\n",
       "<table border=\"1\" class=\"dataframe\">\n",
       "  <thead>\n",
       "    <tr style=\"text-align: right;\">\n",
       "      <th></th>\n",
       "      <th>Name</th>\n",
       "      <th>Population</th>\n",
       "      <th>Population White</th>\n",
       "      <th>Population Black</th>\n",
       "      <th>Population American Indian</th>\n",
       "      <th>Population Asian</th>\n",
       "      <th>Population Native Hawaiian</th>\n",
       "      <th>Population 2 or More Races</th>\n",
       "      <th>Population Hispanic</th>\n",
       "      <th>Poverty</th>\n",
       "      <th>White Poverty</th>\n",
       "      <th>Black Poverty</th>\n",
       "      <th>American Indian Poverty</th>\n",
       "      <th>Asian Poverty</th>\n",
       "      <th>Native Hawaiian Poverty</th>\n",
       "      <th>2 or More Races Poverty</th>\n",
       "      <th>Hispanic Poverty</th>\n",
       "      <th>State</th>\n",
       "    </tr>\n",
       "  </thead>\n",
       "  <tbody>\n",
       "    <tr>\n",
       "      <th>0</th>\n",
       "      <td>Minnesota</td>\n",
       "      <td>5527358.0</td>\n",
       "      <td>4606044.0</td>\n",
       "      <td>342186.0</td>\n",
       "      <td>58982.0</td>\n",
       "      <td>262359.0</td>\n",
       "      <td>2187.0</td>\n",
       "      <td>157767.0</td>\n",
       "      <td>292764.0</td>\n",
       "      <td>547442.0</td>\n",
       "      <td>345061.0</td>\n",
       "      <td>100381.0</td>\n",
       "      <td>17260.0</td>\n",
       "      <td>37275.0</td>\n",
       "      <td>393.0</td>\n",
       "      <td>26079.0</td>\n",
       "      <td>56976.0</td>\n",
       "      <td>27</td>\n",
       "    </tr>\n",
       "    <tr>\n",
       "      <th>1</th>\n",
       "      <td>Mississippi</td>\n",
       "      <td>2988762.0</td>\n",
       "      <td>1751193.0</td>\n",
       "      <td>1125834.0</td>\n",
       "      <td>13689.0</td>\n",
       "      <td>28313.0</td>\n",
       "      <td>707.0</td>\n",
       "      <td>40193.0</td>\n",
       "      <td>90493.0</td>\n",
       "      <td>599795.0</td>\n",
       "      <td>220845.0</td>\n",
       "      <td>353470.0</td>\n",
       "      <td>4136.0</td>\n",
       "      <td>3748.0</td>\n",
       "      <td>157.0</td>\n",
       "      <td>10311.0</td>\n",
       "      <td>21702.0</td>\n",
       "      <td>28</td>\n",
       "    </tr>\n",
       "    <tr>\n",
       "      <th>2</th>\n",
       "      <td>Missouri</td>\n",
       "      <td>6090062.0</td>\n",
       "      <td>5008342.0</td>\n",
       "      <td>704896.0</td>\n",
       "      <td>26952.0</td>\n",
       "      <td>116720.0</td>\n",
       "      <td>6662.0</td>\n",
       "      <td>155328.0</td>\n",
       "      <td>249105.0</td>\n",
       "      <td>837930.0</td>\n",
       "      <td>586815.0</td>\n",
       "      <td>175186.0</td>\n",
       "      <td>5218.0</td>\n",
       "      <td>16626.0</td>\n",
       "      <td>2014.0</td>\n",
       "      <td>32186.0</td>\n",
       "      <td>56254.0</td>\n",
       "      <td>29</td>\n",
       "    </tr>\n",
       "    <tr>\n",
       "      <th>3</th>\n",
       "      <td>Montana</td>\n",
       "      <td>1041732.0</td>\n",
       "      <td>925642.0</td>\n",
       "      <td>4630.0</td>\n",
       "      <td>67289.0</td>\n",
       "      <td>7947.0</td>\n",
       "      <td>757.0</td>\n",
       "      <td>29435.0</td>\n",
       "      <td>39019.0</td>\n",
       "      <td>139063.0</td>\n",
       "      <td>108702.0</td>\n",
       "      <td>889.0</td>\n",
       "      <td>21945.0</td>\n",
       "      <td>1360.0</td>\n",
       "      <td>58.0</td>\n",
       "      <td>5290.0</td>\n",
       "      <td>7205.0</td>\n",
       "      <td>30</td>\n",
       "    </tr>\n",
       "    <tr>\n",
       "      <th>4</th>\n",
       "      <td>Nebraska</td>\n",
       "      <td>1904760.0</td>\n",
       "      <td>1666463.0</td>\n",
       "      <td>90860.0</td>\n",
       "      <td>17282.0</td>\n",
       "      <td>44105.0</td>\n",
       "      <td>1392.0</td>\n",
       "      <td>48600.0</td>\n",
       "      <td>203281.0</td>\n",
       "      <td>213790.0</td>\n",
       "      <td>160801.0</td>\n",
       "      <td>23326.0</td>\n",
       "      <td>5117.0</td>\n",
       "      <td>7718.0</td>\n",
       "      <td>285.0</td>\n",
       "      <td>9191.0</td>\n",
       "      <td>42749.0</td>\n",
       "      <td>31</td>\n",
       "    </tr>\n",
       "  </tbody>\n",
       "</table>\n",
       "</div>"
      ],
      "text/plain": [
       "          Name  Population  Population White  Population Black  \\\n",
       "0    Minnesota   5527358.0         4606044.0          342186.0   \n",
       "1  Mississippi   2988762.0         1751193.0         1125834.0   \n",
       "2     Missouri   6090062.0         5008342.0          704896.0   \n",
       "3      Montana   1041732.0          925642.0            4630.0   \n",
       "4     Nebraska   1904760.0         1666463.0           90860.0   \n",
       "\n",
       "   Population American Indian  Population Asian  Population Native Hawaiian  \\\n",
       "0                     58982.0          262359.0                      2187.0   \n",
       "1                     13689.0           28313.0                       707.0   \n",
       "2                     26952.0          116720.0                      6662.0   \n",
       "3                     67289.0            7947.0                       757.0   \n",
       "4                     17282.0           44105.0                      1392.0   \n",
       "\n",
       "   Population 2 or More Races  Population Hispanic   Poverty  White Poverty  \\\n",
       "0                    157767.0             292764.0  547442.0       345061.0   \n",
       "1                     40193.0              90493.0  599795.0       220845.0   \n",
       "2                    155328.0             249105.0  837930.0       586815.0   \n",
       "3                     29435.0              39019.0  139063.0       108702.0   \n",
       "4                     48600.0             203281.0  213790.0       160801.0   \n",
       "\n",
       "   Black Poverty  American Indian Poverty  Asian Poverty  \\\n",
       "0       100381.0                  17260.0        37275.0   \n",
       "1       353470.0                   4136.0         3748.0   \n",
       "2       175186.0                   5218.0        16626.0   \n",
       "3          889.0                  21945.0         1360.0   \n",
       "4        23326.0                   5117.0         7718.0   \n",
       "\n",
       "   Native Hawaiian Poverty  2 or More Races Poverty  Hispanic Poverty State  \n",
       "0                    393.0                  26079.0           56976.0    27  \n",
       "1                    157.0                  10311.0           21702.0    28  \n",
       "2                   2014.0                  32186.0           56254.0    29  \n",
       "3                     58.0                   5290.0            7205.0    30  \n",
       "4                    285.0                   9191.0           42749.0    31  "
      ]
     },
     "execution_count": 66,
     "metadata": {},
     "output_type": "execute_result"
    }
   ],
   "source": [
    "#Import census data into data frame. This includes population data and poverty data by race\n",
    "census_data = c.acs5.get((\"NAME\", \"B01003_001E\", \"B02001_002E\",\"B02001_003E\",\n",
    "                          \"B02001_004E\",\n",
    "                          \"B02001_005E\",\n",
    "                          \"B02001_006E\",\n",
    "                          \"B02001_008E\",\n",
    "                          \"B03001_003E\",\n",
    "                          \"B17001_002E\",\n",
    "                          \"B17001A_002E\",\n",
    "                          \"B17001B_002E\",\n",
    "                          \"B17001C_002E\",\n",
    "                          \"B17001D_002E\",\n",
    "                          \"B17001E_002E\",\n",
    "                          \"B17001G_002E\",\n",
    "                          \"B17001I_002E\"), {'for': 'state:*'})\n",
    "\n",
    "# Convert to DataFrame\n",
    "census_pd = pd.DataFrame(census_data)\n",
    "census_pd = census_pd.rename(columns={\"B01003_001E\": \"Population\",\n",
    "                                      \"B02001_002E\": \"Population White\",\n",
    "                                      \"B02001_003E\": \"Population Black\",\n",
    "                                      \"B02001_004E\": \"Population American Indian\",\n",
    "                                      \"B02001_005E\": \"Population Asian\",\n",
    "                                      \"B02001_006E\": \"Population Native Hawaiian\",\n",
    "                                      \"B02001_008E\": \"Population 2 or More Races\",\n",
    "                                      \"B03001_003E\": \"Population Hispanic\",\n",
    "                                      \"B17001_002E\": \"Poverty\",\n",
    "                                      \"B17001A_002E\": \"White Poverty\",\n",
    "                                      \"B17001B_002E\": \"Black Poverty\",\n",
    "                                      \"B17001C_002E\": \"American Indian Poverty\",\n",
    "                                      \"B17001D_002E\": \"Asian Poverty\",\n",
    "                                      \"B17001E_002E\": \"Native Hawaiian Poverty\",\n",
    "                                      \"B17001G_002E\": \"2 or More Races Poverty\",\n",
    "                                      \"B17001I_002E\": \"Hispanic Poverty\",\n",
    "                                      \"NAME\": \"Name\", \"state\": \"State\"})\n",
    "pd.set_option('display.max_columns', 999)\n",
    "census_pd.head()"
   ]
  },
  {
   "cell_type": "code",
   "execution_count": 67,
   "metadata": {},
   "outputs": [
    {
     "data": {
      "text/html": [
       "<div>\n",
       "<style scoped>\n",
       "    .dataframe tbody tr th:only-of-type {\n",
       "        vertical-align: middle;\n",
       "    }\n",
       "\n",
       "    .dataframe tbody tr th {\n",
       "        vertical-align: top;\n",
       "    }\n",
       "\n",
       "    .dataframe thead th {\n",
       "        text-align: right;\n",
       "    }\n",
       "</style>\n",
       "<table border=\"1\" class=\"dataframe\">\n",
       "  <thead>\n",
       "    <tr style=\"text-align: right;\">\n",
       "      <th></th>\n",
       "      <th>Name</th>\n",
       "      <th>Population</th>\n",
       "      <th>Population White</th>\n",
       "      <th>Population Black</th>\n",
       "      <th>Population American Indian</th>\n",
       "      <th>Population Asian</th>\n",
       "      <th>Population Native Hawaiian</th>\n",
       "      <th>Population 2 or More Races</th>\n",
       "      <th>Population Hispanic</th>\n",
       "      <th>Poverty</th>\n",
       "      <th>White Poverty</th>\n",
       "      <th>Black Poverty</th>\n",
       "      <th>American Indian Poverty</th>\n",
       "      <th>Asian Poverty</th>\n",
       "      <th>Native Hawaiian Poverty</th>\n",
       "      <th>2 or More Races Poverty</th>\n",
       "      <th>Hispanic Poverty</th>\n",
       "      <th>State</th>\n",
       "      <th>%Pop Black</th>\n",
       "      <th>%Pop White</th>\n",
       "      <th>%Pop American Indian</th>\n",
       "      <th>%Pop Asian</th>\n",
       "      <th>%Pop Native Hawaiian</th>\n",
       "      <th>%Pop 2 or More Races</th>\n",
       "      <th>%Pop Hispanic</th>\n",
       "      <th>Poverty Rate</th>\n",
       "      <th>Poverty Rate White</th>\n",
       "      <th>Poverty Rate Black</th>\n",
       "      <th>Poverty Rate American Indian</th>\n",
       "      <th>Poverty Rate Asian</th>\n",
       "      <th>Poverty Rate Hispanic</th>\n",
       "      <th>Poverty Rate Native Hawaiian</th>\n",
       "      <th>Poverty Rate 2 or More Races</th>\n",
       "    </tr>\n",
       "  </thead>\n",
       "  <tbody>\n",
       "    <tr>\n",
       "      <th>0</th>\n",
       "      <td>Minnesota</td>\n",
       "      <td>5527358.0</td>\n",
       "      <td>4606044.0</td>\n",
       "      <td>342186.0</td>\n",
       "      <td>58982.0</td>\n",
       "      <td>262359.0</td>\n",
       "      <td>2187.0</td>\n",
       "      <td>157767.0</td>\n",
       "      <td>292764.0</td>\n",
       "      <td>547442.0</td>\n",
       "      <td>345061.0</td>\n",
       "      <td>100381.0</td>\n",
       "      <td>17260.0</td>\n",
       "      <td>37275.0</td>\n",
       "      <td>393.0</td>\n",
       "      <td>26079.0</td>\n",
       "      <td>56976.0</td>\n",
       "      <td>27</td>\n",
       "      <td>6.190770</td>\n",
       "      <td>83.331747</td>\n",
       "      <td>1.067092</td>\n",
       "      <td>4.746553</td>\n",
       "      <td>0.039567</td>\n",
       "      <td>2.854293</td>\n",
       "      <td>5.296635</td>\n",
       "      <td>9.904225</td>\n",
       "      <td>7.491483</td>\n",
       "      <td>29.335215</td>\n",
       "      <td>29.263165</td>\n",
       "      <td>14.207632</td>\n",
       "      <td>19.461409</td>\n",
       "      <td>17.969822</td>\n",
       "      <td>16.530073</td>\n",
       "    </tr>\n",
       "    <tr>\n",
       "      <th>1</th>\n",
       "      <td>Mississippi</td>\n",
       "      <td>2988762.0</td>\n",
       "      <td>1751193.0</td>\n",
       "      <td>1125834.0</td>\n",
       "      <td>13689.0</td>\n",
       "      <td>28313.0</td>\n",
       "      <td>707.0</td>\n",
       "      <td>40193.0</td>\n",
       "      <td>90493.0</td>\n",
       "      <td>599795.0</td>\n",
       "      <td>220845.0</td>\n",
       "      <td>353470.0</td>\n",
       "      <td>4136.0</td>\n",
       "      <td>3748.0</td>\n",
       "      <td>157.0</td>\n",
       "      <td>10311.0</td>\n",
       "      <td>21702.0</td>\n",
       "      <td>28</td>\n",
       "      <td>37.668908</td>\n",
       "      <td>58.592588</td>\n",
       "      <td>0.458016</td>\n",
       "      <td>0.947315</td>\n",
       "      <td>0.023655</td>\n",
       "      <td>1.344804</td>\n",
       "      <td>3.027775</td>\n",
       "      <td>20.068343</td>\n",
       "      <td>12.611117</td>\n",
       "      <td>31.396280</td>\n",
       "      <td>30.214040</td>\n",
       "      <td>13.237735</td>\n",
       "      <td>23.981965</td>\n",
       "      <td>22.206506</td>\n",
       "      <td>25.653721</td>\n",
       "    </tr>\n",
       "    <tr>\n",
       "      <th>2</th>\n",
       "      <td>Missouri</td>\n",
       "      <td>6090062.0</td>\n",
       "      <td>5008342.0</td>\n",
       "      <td>704896.0</td>\n",
       "      <td>26952.0</td>\n",
       "      <td>116720.0</td>\n",
       "      <td>6662.0</td>\n",
       "      <td>155328.0</td>\n",
       "      <td>249105.0</td>\n",
       "      <td>837930.0</td>\n",
       "      <td>586815.0</td>\n",
       "      <td>175186.0</td>\n",
       "      <td>5218.0</td>\n",
       "      <td>16626.0</td>\n",
       "      <td>2014.0</td>\n",
       "      <td>32186.0</td>\n",
       "      <td>56254.0</td>\n",
       "      <td>29</td>\n",
       "      <td>11.574529</td>\n",
       "      <td>82.237948</td>\n",
       "      <td>0.442557</td>\n",
       "      <td>1.916565</td>\n",
       "      <td>0.109391</td>\n",
       "      <td>2.550516</td>\n",
       "      <td>4.090352</td>\n",
       "      <td>13.758973</td>\n",
       "      <td>11.716752</td>\n",
       "      <td>24.852744</td>\n",
       "      <td>19.360344</td>\n",
       "      <td>14.244345</td>\n",
       "      <td>22.582445</td>\n",
       "      <td>30.231162</td>\n",
       "      <td>20.721312</td>\n",
       "    </tr>\n",
       "    <tr>\n",
       "      <th>3</th>\n",
       "      <td>Montana</td>\n",
       "      <td>1041732.0</td>\n",
       "      <td>925642.0</td>\n",
       "      <td>4630.0</td>\n",
       "      <td>67289.0</td>\n",
       "      <td>7947.0</td>\n",
       "      <td>757.0</td>\n",
       "      <td>29435.0</td>\n",
       "      <td>39019.0</td>\n",
       "      <td>139063.0</td>\n",
       "      <td>108702.0</td>\n",
       "      <td>889.0</td>\n",
       "      <td>21945.0</td>\n",
       "      <td>1360.0</td>\n",
       "      <td>58.0</td>\n",
       "      <td>5290.0</td>\n",
       "      <td>7205.0</td>\n",
       "      <td>30</td>\n",
       "      <td>0.444452</td>\n",
       "      <td>88.856059</td>\n",
       "      <td>6.459339</td>\n",
       "      <td>0.762864</td>\n",
       "      <td>0.072667</td>\n",
       "      <td>2.825583</td>\n",
       "      <td>3.745589</td>\n",
       "      <td>13.349211</td>\n",
       "      <td>11.743417</td>\n",
       "      <td>19.200864</td>\n",
       "      <td>32.613057</td>\n",
       "      <td>17.113376</td>\n",
       "      <td>18.465363</td>\n",
       "      <td>7.661823</td>\n",
       "      <td>17.971802</td>\n",
       "    </tr>\n",
       "    <tr>\n",
       "      <th>4</th>\n",
       "      <td>Nebraska</td>\n",
       "      <td>1904760.0</td>\n",
       "      <td>1666463.0</td>\n",
       "      <td>90860.0</td>\n",
       "      <td>17282.0</td>\n",
       "      <td>44105.0</td>\n",
       "      <td>1392.0</td>\n",
       "      <td>48600.0</td>\n",
       "      <td>203281.0</td>\n",
       "      <td>213790.0</td>\n",
       "      <td>160801.0</td>\n",
       "      <td>23326.0</td>\n",
       "      <td>5117.0</td>\n",
       "      <td>7718.0</td>\n",
       "      <td>285.0</td>\n",
       "      <td>9191.0</td>\n",
       "      <td>42749.0</td>\n",
       "      <td>31</td>\n",
       "      <td>4.770155</td>\n",
       "      <td>87.489395</td>\n",
       "      <td>0.907306</td>\n",
       "      <td>2.315515</td>\n",
       "      <td>0.073080</td>\n",
       "      <td>2.551503</td>\n",
       "      <td>10.672263</td>\n",
       "      <td>11.223986</td>\n",
       "      <td>9.649239</td>\n",
       "      <td>25.672463</td>\n",
       "      <td>29.608842</td>\n",
       "      <td>17.499150</td>\n",
       "      <td>21.029511</td>\n",
       "      <td>20.474138</td>\n",
       "      <td>18.911523</td>\n",
       "    </tr>\n",
       "  </tbody>\n",
       "</table>\n",
       "</div>"
      ],
      "text/plain": [
       "          Name  Population  Population White  Population Black  \\\n",
       "0    Minnesota   5527358.0         4606044.0          342186.0   \n",
       "1  Mississippi   2988762.0         1751193.0         1125834.0   \n",
       "2     Missouri   6090062.0         5008342.0          704896.0   \n",
       "3      Montana   1041732.0          925642.0            4630.0   \n",
       "4     Nebraska   1904760.0         1666463.0           90860.0   \n",
       "\n",
       "   Population American Indian  Population Asian  Population Native Hawaiian  \\\n",
       "0                     58982.0          262359.0                      2187.0   \n",
       "1                     13689.0           28313.0                       707.0   \n",
       "2                     26952.0          116720.0                      6662.0   \n",
       "3                     67289.0            7947.0                       757.0   \n",
       "4                     17282.0           44105.0                      1392.0   \n",
       "\n",
       "   Population 2 or More Races  Population Hispanic   Poverty  White Poverty  \\\n",
       "0                    157767.0             292764.0  547442.0       345061.0   \n",
       "1                     40193.0              90493.0  599795.0       220845.0   \n",
       "2                    155328.0             249105.0  837930.0       586815.0   \n",
       "3                     29435.0              39019.0  139063.0       108702.0   \n",
       "4                     48600.0             203281.0  213790.0       160801.0   \n",
       "\n",
       "   Black Poverty  American Indian Poverty  Asian Poverty  \\\n",
       "0       100381.0                  17260.0        37275.0   \n",
       "1       353470.0                   4136.0         3748.0   \n",
       "2       175186.0                   5218.0        16626.0   \n",
       "3          889.0                  21945.0         1360.0   \n",
       "4        23326.0                   5117.0         7718.0   \n",
       "\n",
       "   Native Hawaiian Poverty  2 or More Races Poverty  Hispanic Poverty State  \\\n",
       "0                    393.0                  26079.0           56976.0    27   \n",
       "1                    157.0                  10311.0           21702.0    28   \n",
       "2                   2014.0                  32186.0           56254.0    29   \n",
       "3                     58.0                   5290.0            7205.0    30   \n",
       "4                    285.0                   9191.0           42749.0    31   \n",
       "\n",
       "   %Pop Black  %Pop White  %Pop American Indian  %Pop Asian  \\\n",
       "0    6.190770   83.331747              1.067092    4.746553   \n",
       "1   37.668908   58.592588              0.458016    0.947315   \n",
       "2   11.574529   82.237948              0.442557    1.916565   \n",
       "3    0.444452   88.856059              6.459339    0.762864   \n",
       "4    4.770155   87.489395              0.907306    2.315515   \n",
       "\n",
       "   %Pop Native Hawaiian  %Pop 2 or More Races  %Pop Hispanic  Poverty Rate  \\\n",
       "0              0.039567              2.854293       5.296635      9.904225   \n",
       "1              0.023655              1.344804       3.027775     20.068343   \n",
       "2              0.109391              2.550516       4.090352     13.758973   \n",
       "3              0.072667              2.825583       3.745589     13.349211   \n",
       "4              0.073080              2.551503      10.672263     11.223986   \n",
       "\n",
       "   Poverty Rate White  Poverty Rate Black  Poverty Rate American Indian  \\\n",
       "0            7.491483           29.335215                     29.263165   \n",
       "1           12.611117           31.396280                     30.214040   \n",
       "2           11.716752           24.852744                     19.360344   \n",
       "3           11.743417           19.200864                     32.613057   \n",
       "4            9.649239           25.672463                     29.608842   \n",
       "\n",
       "   Poverty Rate Asian  Poverty Rate Hispanic  Poverty Rate Native Hawaiian  \\\n",
       "0           14.207632              19.461409                     17.969822   \n",
       "1           13.237735              23.981965                     22.206506   \n",
       "2           14.244345              22.582445                     30.231162   \n",
       "3           17.113376              18.465363                      7.661823   \n",
       "4           17.499150              21.029511                     20.474138   \n",
       "\n",
       "   Poverty Rate 2 or More Races  \n",
       "0                     16.530073  \n",
       "1                     25.653721  \n",
       "2                     20.721312  \n",
       "3                     17.971802  \n",
       "4                     18.911523  "
      ]
     },
     "execution_count": 67,
     "metadata": {},
     "output_type": "execute_result"
    }
   ],
   "source": [
    "#population percentage for race and ethnicity in each state\n",
    "census_pd['%Pop Black'] = census_pd['Population Black']/census_pd['Population']*100\n",
    "census_pd['%Pop White'] = census_pd['Population White']/census_pd['Population']*100\n",
    "census_pd['%Pop American Indian'] = census_pd['Population American Indian']/census_pd['Population']*100\n",
    "census_pd['%Pop Asian'] = census_pd['Population Asian']/census_pd['Population']*100\n",
    "census_pd['%Pop Native Hawaiian'] = census_pd['Population Native Hawaiian']/census_pd['Population']*100\n",
    "census_pd['%Pop 2 or More Races'] = census_pd['Population 2 or More Races']/census_pd['Population']*100\n",
    "census_pd['%Pop Hispanic'] = census_pd['Population Hispanic']/census_pd['Population']*100\n",
    "\n",
    "#calculate poverty rate for race and ethnicity\n",
    "census_pd[\"Poverty Rate\"] = 100 * census_pd[\"Poverty\"].astype(int) / census_pd[\"Population\"].astype(int)\n",
    "census_pd[\"Poverty Rate White\"] = 100 * census_pd[\"White Poverty\"].astype(int) / census_pd[\"Population White\"].astype(int)\n",
    "census_pd[\"Poverty Rate Black\"] = 100 * census_pd[\"Black Poverty\"].astype(int) / census_pd[\"Population Black\"].astype(int)\n",
    "census_pd[\"Poverty Rate American Indian\"] = 100 * census_pd[\"American Indian Poverty\"].astype(int) / census_pd[\"Population American Indian\"].astype(int)\n",
    "census_pd[\"Poverty Rate Asian\"] = 100 * census_pd[\"Asian Poverty\"].astype(int) / census_pd[\"Population Asian\"].astype(int)\n",
    "census_pd[\"Poverty Rate Hispanic\"] = 100 * census_pd[\"Hispanic Poverty\"].astype(int) / census_pd[\"Population Hispanic\"].astype(int)\n",
    "census_pd[\"Poverty Rate Native Hawaiian\"] = 100 * census_pd[\"Native Hawaiian Poverty\"].astype(int) / census_pd[\"Population Native Hawaiian\"].astype(int)\n",
    "census_pd[\"Poverty Rate 2 or More Races\"] = 100 * census_pd[\"2 or More Races Poverty\"].astype(int) / census_pd[\"Population 2 or More Races\"].astype(int)\n",
    "\n",
    "# state_abrevs=[]\n",
    "# for place in census_pd['Name']:\n",
    "#     states =us.states.lookup(place)\n",
    "#     code = states.abbr\n",
    "#     state_abrevs.append(code)\n",
    "census_pd.head()\n",
    "\n"
   ]
  },
  {
   "cell_type": "code",
   "execution_count": 68,
   "metadata": {},
   "outputs": [
    {
     "data": {
      "text/html": [
       "<div>\n",
       "<style scoped>\n",
       "    .dataframe tbody tr th:only-of-type {\n",
       "        vertical-align: middle;\n",
       "    }\n",
       "\n",
       "    .dataframe tbody tr th {\n",
       "        vertical-align: top;\n",
       "    }\n",
       "\n",
       "    .dataframe thead th {\n",
       "        text-align: right;\n",
       "    }\n",
       "</style>\n",
       "<table border=\"1\" class=\"dataframe\">\n",
       "  <thead>\n",
       "    <tr style=\"text-align: right;\">\n",
       "      <th></th>\n",
       "      <th>Date</th>\n",
       "      <th>State</th>\n",
       "      <th>Cases_Total</th>\n",
       "      <th>Cases_White</th>\n",
       "      <th>Cases_Black</th>\n",
       "      <th>Cases_LatinX</th>\n",
       "      <th>Cases_Asian</th>\n",
       "      <th>Cases_AIAN</th>\n",
       "      <th>Cases_NHPI</th>\n",
       "      <th>Cases_Multiracial</th>\n",
       "      <th>Cases_Other</th>\n",
       "      <th>Cases_Unknown</th>\n",
       "      <th>Cases_Ethnicity_Hispanic</th>\n",
       "      <th>Cases_Ethnicity_NonHispanic</th>\n",
       "      <th>Cases_Ethnicity_Unknown</th>\n",
       "      <th>Deaths_Total</th>\n",
       "      <th>Deaths_White</th>\n",
       "      <th>Deaths_Black</th>\n",
       "      <th>Deaths_LatinX</th>\n",
       "      <th>Deaths_Asian</th>\n",
       "      <th>Deaths_AIAN</th>\n",
       "      <th>Deaths_NHPI</th>\n",
       "      <th>Deaths_Multiracial</th>\n",
       "      <th>Deaths_Other</th>\n",
       "      <th>Deaths_Unknown</th>\n",
       "      <th>Deaths_Ethnicity_Hispanic</th>\n",
       "      <th>Deaths_Ethnicity_NonHispanic</th>\n",
       "      <th>Deaths_Ethnicity_Unknown</th>\n",
       "      <th>Name</th>\n",
       "    </tr>\n",
       "  </thead>\n",
       "  <tbody>\n",
       "    <tr>\n",
       "      <th>0</th>\n",
       "      <td>20200729</td>\n",
       "      <td>AK</td>\n",
       "      <td>2797</td>\n",
       "      <td>852</td>\n",
       "      <td>81.0</td>\n",
       "      <td>NaN</td>\n",
       "      <td>83.0</td>\n",
       "      <td>366.0</td>\n",
       "      <td>103.0</td>\n",
       "      <td>68.0</td>\n",
       "      <td>48.0</td>\n",
       "      <td>1196.0</td>\n",
       "      <td>150.0</td>\n",
       "      <td>1215.0</td>\n",
       "      <td>1432.0</td>\n",
       "      <td>22.0</td>\n",
       "      <td>11.0</td>\n",
       "      <td>0.0</td>\n",
       "      <td>NaN</td>\n",
       "      <td>2.0</td>\n",
       "      <td>8.0</td>\n",
       "      <td>1.0</td>\n",
       "      <td>0.0</td>\n",
       "      <td>0.0</td>\n",
       "      <td>0.0</td>\n",
       "      <td>0.0</td>\n",
       "      <td>22.0</td>\n",
       "      <td>0.0</td>\n",
       "      <td>Alaska</td>\n",
       "    </tr>\n",
       "    <tr>\n",
       "      <th>1</th>\n",
       "      <td>20200729</td>\n",
       "      <td>AL</td>\n",
       "      <td>83782</td>\n",
       "      <td>25915</td>\n",
       "      <td>23239.0</td>\n",
       "      <td>NaN</td>\n",
       "      <td>309.0</td>\n",
       "      <td>NaN</td>\n",
       "      <td>NaN</td>\n",
       "      <td>NaN</td>\n",
       "      <td>4527.0</td>\n",
       "      <td>29789.0</td>\n",
       "      <td>5832.0</td>\n",
       "      <td>40720.0</td>\n",
       "      <td>37228.0</td>\n",
       "      <td>1538.0</td>\n",
       "      <td>779.0</td>\n",
       "      <td>623.0</td>\n",
       "      <td>NaN</td>\n",
       "      <td>4.0</td>\n",
       "      <td>NaN</td>\n",
       "      <td>NaN</td>\n",
       "      <td>NaN</td>\n",
       "      <td>29.0</td>\n",
       "      <td>103.0</td>\n",
       "      <td>48.0</td>\n",
       "      <td>1267.0</td>\n",
       "      <td>223.0</td>\n",
       "      <td>Alabama</td>\n",
       "    </tr>\n",
       "    <tr>\n",
       "      <th>2</th>\n",
       "      <td>20200729</td>\n",
       "      <td>AR</td>\n",
       "      <td>40968</td>\n",
       "      <td>20527</td>\n",
       "      <td>8673.0</td>\n",
       "      <td>NaN</td>\n",
       "      <td>587.0</td>\n",
       "      <td>120.0</td>\n",
       "      <td>2103.0</td>\n",
       "      <td>NaN</td>\n",
       "      <td>5456.0</td>\n",
       "      <td>3502.0</td>\n",
       "      <td>9493.0</td>\n",
       "      <td>31475.0</td>\n",
       "      <td>0.0</td>\n",
       "      <td>434.0</td>\n",
       "      <td>255.0</td>\n",
       "      <td>113.0</td>\n",
       "      <td>NaN</td>\n",
       "      <td>6.0</td>\n",
       "      <td>2.0</td>\n",
       "      <td>31.0</td>\n",
       "      <td>NaN</td>\n",
       "      <td>30.0</td>\n",
       "      <td>0.0</td>\n",
       "      <td>43.0</td>\n",
       "      <td>394.0</td>\n",
       "      <td>0.0</td>\n",
       "      <td>Arkansas</td>\n",
       "    </tr>\n",
       "    <tr>\n",
       "      <th>3</th>\n",
       "      <td>20200729</td>\n",
       "      <td>AS</td>\n",
       "      <td>NaN</td>\n",
       "      <td>NaN</td>\n",
       "      <td>NaN</td>\n",
       "      <td>NaN</td>\n",
       "      <td>NaN</td>\n",
       "      <td>NaN</td>\n",
       "      <td>NaN</td>\n",
       "      <td>NaN</td>\n",
       "      <td>NaN</td>\n",
       "      <td>NaN</td>\n",
       "      <td>NaN</td>\n",
       "      <td>NaN</td>\n",
       "      <td>NaN</td>\n",
       "      <td>NaN</td>\n",
       "      <td>NaN</td>\n",
       "      <td>NaN</td>\n",
       "      <td>NaN</td>\n",
       "      <td>NaN</td>\n",
       "      <td>NaN</td>\n",
       "      <td>NaN</td>\n",
       "      <td>NaN</td>\n",
       "      <td>NaN</td>\n",
       "      <td>NaN</td>\n",
       "      <td>NaN</td>\n",
       "      <td>NaN</td>\n",
       "      <td>NaN</td>\n",
       "      <td>American Samoa</td>\n",
       "    </tr>\n",
       "    <tr>\n",
       "      <th>4</th>\n",
       "      <td>20200729</td>\n",
       "      <td>AZ</td>\n",
       "      <td>168273</td>\n",
       "      <td>29227</td>\n",
       "      <td>3822.0</td>\n",
       "      <td>38887.0</td>\n",
       "      <td>1309.0</td>\n",
       "      <td>9631.0</td>\n",
       "      <td>NaN</td>\n",
       "      <td>NaN</td>\n",
       "      <td>3978.0</td>\n",
       "      <td>81419.0</td>\n",
       "      <td>38887.0</td>\n",
       "      <td>47967.0</td>\n",
       "      <td>81419.0</td>\n",
       "      <td>3454.0</td>\n",
       "      <td>1372.0</td>\n",
       "      <td>104.0</td>\n",
       "      <td>946.0</td>\n",
       "      <td>42.0</td>\n",
       "      <td>430.0</td>\n",
       "      <td>NaN</td>\n",
       "      <td>NaN</td>\n",
       "      <td>57.0</td>\n",
       "      <td>503.0</td>\n",
       "      <td>946.0</td>\n",
       "      <td>2005.0</td>\n",
       "      <td>503.0</td>\n",
       "      <td>Arizona</td>\n",
       "    </tr>\n",
       "  </tbody>\n",
       "</table>\n",
       "</div>"
      ],
      "text/plain": [
       "       Date State Cases_Total Cases_White  Cases_Black  Cases_LatinX  \\\n",
       "0  20200729    AK        2797         852         81.0           NaN   \n",
       "1  20200729    AL       83782       25915      23239.0           NaN   \n",
       "2  20200729    AR       40968       20527       8673.0           NaN   \n",
       "3  20200729    AS         NaN         NaN          NaN           NaN   \n",
       "4  20200729    AZ      168273       29227       3822.0       38887.0   \n",
       "\n",
       "   Cases_Asian  Cases_AIAN  Cases_NHPI  Cases_Multiracial  Cases_Other  \\\n",
       "0         83.0       366.0       103.0               68.0         48.0   \n",
       "1        309.0         NaN         NaN                NaN       4527.0   \n",
       "2        587.0       120.0      2103.0                NaN       5456.0   \n",
       "3          NaN         NaN         NaN                NaN          NaN   \n",
       "4       1309.0      9631.0         NaN                NaN       3978.0   \n",
       "\n",
       "   Cases_Unknown  Cases_Ethnicity_Hispanic  Cases_Ethnicity_NonHispanic  \\\n",
       "0         1196.0                     150.0                       1215.0   \n",
       "1        29789.0                    5832.0                      40720.0   \n",
       "2         3502.0                    9493.0                      31475.0   \n",
       "3            NaN                       NaN                          NaN   \n",
       "4        81419.0                   38887.0                      47967.0   \n",
       "\n",
       "   Cases_Ethnicity_Unknown  Deaths_Total  Deaths_White  Deaths_Black  \\\n",
       "0                   1432.0          22.0          11.0           0.0   \n",
       "1                  37228.0        1538.0         779.0         623.0   \n",
       "2                      0.0         434.0         255.0         113.0   \n",
       "3                      NaN           NaN           NaN           NaN   \n",
       "4                  81419.0        3454.0        1372.0         104.0   \n",
       "\n",
       "   Deaths_LatinX  Deaths_Asian  Deaths_AIAN  Deaths_NHPI  Deaths_Multiracial  \\\n",
       "0            NaN           2.0          8.0          1.0                 0.0   \n",
       "1            NaN           4.0          NaN          NaN                 NaN   \n",
       "2            NaN           6.0          2.0         31.0                 NaN   \n",
       "3            NaN           NaN          NaN          NaN                 NaN   \n",
       "4          946.0          42.0        430.0          NaN                 NaN   \n",
       "\n",
       "   Deaths_Other  Deaths_Unknown  Deaths_Ethnicity_Hispanic  \\\n",
       "0           0.0             0.0                        0.0   \n",
       "1          29.0           103.0                       48.0   \n",
       "2          30.0             0.0                       43.0   \n",
       "3           NaN             NaN                        NaN   \n",
       "4          57.0           503.0                      946.0   \n",
       "\n",
       "   Deaths_Ethnicity_NonHispanic  Deaths_Ethnicity_Unknown            Name  \n",
       "0                          22.0                       0.0          Alaska  \n",
       "1                        1267.0                     223.0         Alabama  \n",
       "2                         394.0                       0.0        Arkansas  \n",
       "3                           NaN                       NaN  American Samoa  \n",
       "4                        2005.0                     503.0         Arizona  "
      ]
     },
     "execution_count": 68,
     "metadata": {},
     "output_type": "execute_result"
    }
   ],
   "source": [
    "#read in csv of race data into a data frame\n",
    "race_df = pd.read_csv('Resources/RaceDataEntryCRDT.csv')\n",
    "race_current_df = race_df.drop(race_df.index[56:])\n",
    "race_current_df['Name'] = [\n",
    "    'Alaska', 'Alabama', 'Arkansas', 'American Samoa', 'Arizona', \n",
    "    'California', 'Colorado', 'Connecticut', 'District of Columbia',\n",
    "    'Delaware', 'Florida', 'Georgia', 'Guam', 'Hawaii', 'Iowa', 'Idaho', \n",
    "    'Illinois', 'Indiana', 'Kansas', 'Kentucky','Louisiana', 'Massachusetts', \n",
    "    'Maryland', 'Maine', 'Michigan','Minnesota', 'Missouri', \n",
    "    'Northern Mariana Islands', 'Mississippi', 'Montana', 'North Carolina', \n",
    "    'North Dakota','Nebraska', 'New Hampshire', 'New Jersey', 'New Mexico', \n",
    "    'Nevada', 'New York','Ohio', 'Oklahoma', 'Oregon', 'Pennsylvania', \n",
    "    'Puerto Rico', 'Rhode Island', 'South Carolina', 'South Dakota',\n",
    "    'Tennessee', 'Texas', 'Utah', 'Virginia', 'Virgin Islands', 'Vermont',\n",
    "    'Washington', 'Wisconsin', 'West Virginia', 'Wyoming'\n",
    "    ]\n",
    "race_current_df.head()"
   ]
  },
  {
   "cell_type": "code",
   "execution_count": 75,
   "metadata": {},
   "outputs": [
    {
     "name": "stdout",
     "output_type": "stream",
     "text": [
      "total deaths: 44.74945998263612, black deaths: 74.2421663286631, white deaths:, 29.64983071821118, LatinX Deaths: 38.12557733198997, Asian Deaths: 31.3402347070746, American Indian Deaths:, 39.555661759573226, Pacific Islander: 28.81542860377242, Multiracial Deaths: 2.9496959975452497\n",
      "total cases: 13.480095592640817, black cases: 25.5428128735742, white cases:, 4.405111683769475, LatinX cases: 19.814522664272385, Asian cases: 8.447757421350515, American Indian cases:, 23.325652419118644, Pacific Islander cases: 32.533991056925906, Multiracial cases: 3.290089030872197\n"
     ]
    }
   ],
   "source": [
    "#merge census data and covid data\n",
    "merge_df = pd.merge(census_pd, race_current_df, how='left', on='Name')\n",
    "\n",
    "merge_df = merge_df.fillna(0)\n",
    "\n",
    "#covid infections by % race\n",
    "\n",
    "merge_df['%COVID'] = merge_df['Cases_Total'].astype(int) /merge_df['Population'].astype(int)*100\n",
    "merge_df['%COVID_White'] = merge_df['Cases_White'].astype(int) /merge_df['Population White'].astype(int)*100\n",
    "merge_df['%COVID_Black'] = merge_df['Cases_Black'].astype(int) /merge_df['Population Black'].astype(int)*100\n",
    "merge_df['%COVID_LatinX'] = merge_df['Cases_LatinX'].astype(int) /merge_df['Population Hispanic'].astype(int)*100\n",
    "merge_df['%COVID_Asian'] = merge_df['Cases_Asian'].astype(int) /merge_df['Population Asian'].astype(int)*100\n",
    "merge_df['%COVID_AIAN'] = merge_df['Cases_AIAN'].astype(int) /merge_df['Population American Indian'].astype(int)*100\n",
    "merge_df['%COVID_NHPI'] = merge_df['Cases_NHPI'].astype(int) /merge_df['Population Native Hawaiian'].astype(int)*100\n",
    "merge_df['%COVID_Multiracial'] = merge_df['Cases_Multiracial'].astype(int) /merge_df['Population 2 or More Races'].astype(int)*100\n",
    "\n",
    "#covid deaths by % race\n",
    "merge_df['%COVID_Deaths'] = merge_df['Deaths_Total'].astype(int) /merge_df['Population'].astype(int)*100\n",
    "merge_df['%COVID_Deaths_White'] = merge_df['Deaths_White'].astype(int) /merge_df['Population White'].astype(int)*100\n",
    "merge_df['%COVID_Deaths_Black'] = merge_df['Deaths_Black'].astype(int) /merge_df['Population Black'].astype(int)*100\n",
    "merge_df['%COVID_Deaths_LatinX'] = merge_df['Deaths_LatinX'].astype(int) /merge_df['Population Hispanic'].astype(int)*100\n",
    "merge_df['%COVID_Deaths_Asian'] = merge_df['Deaths_Asian'].astype(int) /merge_df['Population Asian'].astype(int)*100\n",
    "merge_df['%COVID_Deaths_AIAN'] = merge_df['Deaths_AIAN'].astype(int) /merge_df['Population American Indian'].astype(int)*100\n",
    "merge_df['%COVID_Deaths_NHPI'] = merge_df['Deaths_NHPI'].astype(int) /merge_df['Population Native Hawaiian'].astype(int)*100\n",
    "merge_df['%COVID_Deaths_Multiracial'] = merge_df['Deaths_Multiracial'].astype(int) /merge_df['Population 2 or More Races'].astype(int)*100\n",
    "\n",
    "merge_df = merge_df.append(merge_df.sum(numeric_only=True), ignore_index=True)\n",
    "merge_df = merge_df.fillna(0)\n",
    "\n",
    "merge_df\n",
    "\n",
    "#US Populations \n",
    "summary_df = merge_df.iloc[52, 48:61]\n",
    "summary_df['Population']=merge_df.iloc[52,1]\n",
    "summary_df['White Population']=merge_df.iloc[52,2]\n",
    "summary_df['Black Population']=merge_df.iloc[52,3]\n",
    "summary_df['American Indian Population']=merge_df.iloc[52,4]\n",
    "summary_df['Asian Population']=merge_df.iloc[52,5]\n",
    "summary_df['Native Hawaiian Population']=merge_df.iloc[52,6]\n",
    "summary_df['MultiRace Population']=merge_df.iloc[52,7]\n",
    "summary_df['Hispanic Population']=merge_df.iloc[52,8]\n",
    "\n",
    "summary_df\n",
    "#calculate deaths per 100,000\n",
    "all_deaths = summary_df['Deaths_Total']/summary_df['Population']*100000\n",
    "black_deaths = summary_df['Deaths_Black']/summary_df['Black Population']*100000\n",
    "white_deaths = summary_df['Deaths_White']/summary_df['White Population']*100000\n",
    "latinX_deaths = summary_df['Deaths_LatinX']/summary_df['Hispanic Population']*100000\n",
    "asian_deaths = summary_df['Deaths_Asian']/summary_df['Asian Population']*100000\n",
    "AIAN_deaths = summary_df['Deaths_AIAN']/summary_df['American Indian Population']*100000\n",
    "NHPI_deaths = summary_df['Deaths_NHPI']/summary_df['Native Hawaiian Population']*100000\n",
    "multirace_deaths = summary_df['Deaths_Multiracial']/summary_df['MultiRace Population']*100000\n",
    "\n",
    "#cases per 1,000\n",
    "all_cases =  merge_df['Cases_Total'].astype(int).sum()/summary_df['Population']*1000\n",
    "black_cases = merge_df['Cases_Black'].astype(int).sum()/summary_df['Black Population']*1000\n",
    "white_cases = merge_df['Cases_White'].astype(int).sum()/summary_df['White Population']*1000\n",
    "latinX_cases = merge_df['Cases_LatinX'].astype(int).sum()/summary_df['Hispanic Population']*1000\n",
    "asian_cases = merge_df['Cases_Asian'].astype(int).sum()/summary_df['Asian Population']*1000\n",
    "AIAN_cases = merge_df['Cases_AIAN'].astype(int).sum()/summary_df['American Indian Population']*1000\n",
    "NHPI_cases = merge_df['Cases_NHPI'].astype(int).sum()/summary_df['Native Hawaiian Population']*1000\n",
    "multirace_cases = merge_df['Cases_Multiracial'].astype(int).sum()/summary_df['MultiRace Population']*1000\n",
    "\n",
    "print(f\"total deaths: {all_deaths}, black deaths: {black_deaths}, white deaths:, {white_deaths}, LatinX Deaths: {latinX_deaths}, Asian Deaths: {asian_deaths}, American Indian Deaths:, {AIAN_deaths}, Pacific Islander: {NHPI_deaths}, Multiracial Deaths: {multirace_deaths}\")\n",
    "print(f\"total cases: {all_cases}, black cases: {black_cases}, white cases:, {white_cases}, LatinX cases: {latinX_cases}, Asian cases: {asian_cases}, American Indian cases:, {AIAN_cases}, Pacific Islander cases: {NHPI_cases}, Multiracial cases: {multirace_cases}\")\n"
   ]
  },
  {
   "cell_type": "code",
   "execution_count": 101,
   "metadata": {
    "scrolled": true
   },
   "outputs": [
    {
     "data": {
      "application/vnd.plotly.v1+json": {
       "config": {
        "plotlyServerURL": "https://plot.ly"
       },
       "data": [
        {
         "colorbar": {
          "title": {
           "text": "People Below Poverty Line"
          }
         },
         "colorscale": [
          [
           0,
           "#440154"
          ],
          [
           0.1111111111111111,
           "#482878"
          ],
          [
           0.2222222222222222,
           "#3e4989"
          ],
          [
           0.3333333333333333,
           "#31688e"
          ],
          [
           0.4444444444444444,
           "#26828e"
          ],
          [
           0.5555555555555556,
           "#1f9e89"
          ],
          [
           0.6666666666666666,
           "#35b779"
          ],
          [
           0.7777777777777778,
           "#6ece58"
          ],
          [
           0.8888888888888888,
           "#b5de2b"
          ],
          [
           1,
           "#fde725"
          ]
         ],
         "locationmode": "USA-states",
         "locations": [
          "MN",
          "MS",
          "MO",
          "MT",
          "NE",
          "NV",
          "NH",
          "NJ",
          "NM",
          "NY",
          "NC",
          "ND",
          "OH",
          "OK",
          "OR",
          "PA",
          "RI",
          "SC",
          "SD",
          "TN",
          "TX",
          "UT",
          "VT",
          "VA",
          "WV",
          "WA",
          "WI",
          "WY",
          "AL",
          "AK",
          "AZ",
          "AR",
          "CA",
          "CO",
          "CT",
          "DE",
          "DC",
          "FL",
          "GA",
          "ID",
          "HI",
          "IL",
          "IN",
          "IA",
          "KS",
          "KY",
          "LA",
          "ME",
          "MD",
          "MA",
          "MI"
         ],
         "type": "choropleth",
         "z": [
          547442,
          599795,
          837930,
          139063,
          213790,
          393431,
          102352,
          904132,
          410389,
          2797985,
          1523949,
          79270,
          1645986,
          607810,
          565247,
          1578949,
          133055,
          770632,
          113144,
          1046508,
          4213938,
          309904,
          67034,
          893580,
          315464,
          821621,
          668220,
          63311,
          829400,
          77865,
          1092192,
          510337,
          5487141,
          590504,
          348449,
          109798,
          109497,
          2983851,
          1607714,
          228882,
          137516,
          1635603,
          908359,
          353634,
          350280,
          772080,
          878394,
          161743,
          553496,
          710305,
          1457008
         ]
        }
       ],
       "layout": {
        "geo": {
         "scope": "usa"
        },
        "template": {
         "data": {
          "bar": [
           {
            "error_x": {
             "color": "#2a3f5f"
            },
            "error_y": {
             "color": "#2a3f5f"
            },
            "marker": {
             "line": {
              "color": "#E5ECF6",
              "width": 0.5
             }
            },
            "type": "bar"
           }
          ],
          "barpolar": [
           {
            "marker": {
             "line": {
              "color": "#E5ECF6",
              "width": 0.5
             }
            },
            "type": "barpolar"
           }
          ],
          "carpet": [
           {
            "aaxis": {
             "endlinecolor": "#2a3f5f",
             "gridcolor": "white",
             "linecolor": "white",
             "minorgridcolor": "white",
             "startlinecolor": "#2a3f5f"
            },
            "baxis": {
             "endlinecolor": "#2a3f5f",
             "gridcolor": "white",
             "linecolor": "white",
             "minorgridcolor": "white",
             "startlinecolor": "#2a3f5f"
            },
            "type": "carpet"
           }
          ],
          "choropleth": [
           {
            "colorbar": {
             "outlinewidth": 0,
             "ticks": ""
            },
            "type": "choropleth"
           }
          ],
          "contour": [
           {
            "colorbar": {
             "outlinewidth": 0,
             "ticks": ""
            },
            "colorscale": [
             [
              0,
              "#0d0887"
             ],
             [
              0.1111111111111111,
              "#46039f"
             ],
             [
              0.2222222222222222,
              "#7201a8"
             ],
             [
              0.3333333333333333,
              "#9c179e"
             ],
             [
              0.4444444444444444,
              "#bd3786"
             ],
             [
              0.5555555555555556,
              "#d8576b"
             ],
             [
              0.6666666666666666,
              "#ed7953"
             ],
             [
              0.7777777777777778,
              "#fb9f3a"
             ],
             [
              0.8888888888888888,
              "#fdca26"
             ],
             [
              1,
              "#f0f921"
             ]
            ],
            "type": "contour"
           }
          ],
          "contourcarpet": [
           {
            "colorbar": {
             "outlinewidth": 0,
             "ticks": ""
            },
            "type": "contourcarpet"
           }
          ],
          "heatmap": [
           {
            "colorbar": {
             "outlinewidth": 0,
             "ticks": ""
            },
            "colorscale": [
             [
              0,
              "#0d0887"
             ],
             [
              0.1111111111111111,
              "#46039f"
             ],
             [
              0.2222222222222222,
              "#7201a8"
             ],
             [
              0.3333333333333333,
              "#9c179e"
             ],
             [
              0.4444444444444444,
              "#bd3786"
             ],
             [
              0.5555555555555556,
              "#d8576b"
             ],
             [
              0.6666666666666666,
              "#ed7953"
             ],
             [
              0.7777777777777778,
              "#fb9f3a"
             ],
             [
              0.8888888888888888,
              "#fdca26"
             ],
             [
              1,
              "#f0f921"
             ]
            ],
            "type": "heatmap"
           }
          ],
          "heatmapgl": [
           {
            "colorbar": {
             "outlinewidth": 0,
             "ticks": ""
            },
            "colorscale": [
             [
              0,
              "#0d0887"
             ],
             [
              0.1111111111111111,
              "#46039f"
             ],
             [
              0.2222222222222222,
              "#7201a8"
             ],
             [
              0.3333333333333333,
              "#9c179e"
             ],
             [
              0.4444444444444444,
              "#bd3786"
             ],
             [
              0.5555555555555556,
              "#d8576b"
             ],
             [
              0.6666666666666666,
              "#ed7953"
             ],
             [
              0.7777777777777778,
              "#fb9f3a"
             ],
             [
              0.8888888888888888,
              "#fdca26"
             ],
             [
              1,
              "#f0f921"
             ]
            ],
            "type": "heatmapgl"
           }
          ],
          "histogram": [
           {
            "marker": {
             "colorbar": {
              "outlinewidth": 0,
              "ticks": ""
             }
            },
            "type": "histogram"
           }
          ],
          "histogram2d": [
           {
            "colorbar": {
             "outlinewidth": 0,
             "ticks": ""
            },
            "colorscale": [
             [
              0,
              "#0d0887"
             ],
             [
              0.1111111111111111,
              "#46039f"
             ],
             [
              0.2222222222222222,
              "#7201a8"
             ],
             [
              0.3333333333333333,
              "#9c179e"
             ],
             [
              0.4444444444444444,
              "#bd3786"
             ],
             [
              0.5555555555555556,
              "#d8576b"
             ],
             [
              0.6666666666666666,
              "#ed7953"
             ],
             [
              0.7777777777777778,
              "#fb9f3a"
             ],
             [
              0.8888888888888888,
              "#fdca26"
             ],
             [
              1,
              "#f0f921"
             ]
            ],
            "type": "histogram2d"
           }
          ],
          "histogram2dcontour": [
           {
            "colorbar": {
             "outlinewidth": 0,
             "ticks": ""
            },
            "colorscale": [
             [
              0,
              "#0d0887"
             ],
             [
              0.1111111111111111,
              "#46039f"
             ],
             [
              0.2222222222222222,
              "#7201a8"
             ],
             [
              0.3333333333333333,
              "#9c179e"
             ],
             [
              0.4444444444444444,
              "#bd3786"
             ],
             [
              0.5555555555555556,
              "#d8576b"
             ],
             [
              0.6666666666666666,
              "#ed7953"
             ],
             [
              0.7777777777777778,
              "#fb9f3a"
             ],
             [
              0.8888888888888888,
              "#fdca26"
             ],
             [
              1,
              "#f0f921"
             ]
            ],
            "type": "histogram2dcontour"
           }
          ],
          "mesh3d": [
           {
            "colorbar": {
             "outlinewidth": 0,
             "ticks": ""
            },
            "type": "mesh3d"
           }
          ],
          "parcoords": [
           {
            "line": {
             "colorbar": {
              "outlinewidth": 0,
              "ticks": ""
             }
            },
            "type": "parcoords"
           }
          ],
          "pie": [
           {
            "automargin": true,
            "type": "pie"
           }
          ],
          "scatter": [
           {
            "marker": {
             "colorbar": {
              "outlinewidth": 0,
              "ticks": ""
             }
            },
            "type": "scatter"
           }
          ],
          "scatter3d": [
           {
            "line": {
             "colorbar": {
              "outlinewidth": 0,
              "ticks": ""
             }
            },
            "marker": {
             "colorbar": {
              "outlinewidth": 0,
              "ticks": ""
             }
            },
            "type": "scatter3d"
           }
          ],
          "scattercarpet": [
           {
            "marker": {
             "colorbar": {
              "outlinewidth": 0,
              "ticks": ""
             }
            },
            "type": "scattercarpet"
           }
          ],
          "scattergeo": [
           {
            "marker": {
             "colorbar": {
              "outlinewidth": 0,
              "ticks": ""
             }
            },
            "type": "scattergeo"
           }
          ],
          "scattergl": [
           {
            "marker": {
             "colorbar": {
              "outlinewidth": 0,
              "ticks": ""
             }
            },
            "type": "scattergl"
           }
          ],
          "scattermapbox": [
           {
            "marker": {
             "colorbar": {
              "outlinewidth": 0,
              "ticks": ""
             }
            },
            "type": "scattermapbox"
           }
          ],
          "scatterpolar": [
           {
            "marker": {
             "colorbar": {
              "outlinewidth": 0,
              "ticks": ""
             }
            },
            "type": "scatterpolar"
           }
          ],
          "scatterpolargl": [
           {
            "marker": {
             "colorbar": {
              "outlinewidth": 0,
              "ticks": ""
             }
            },
            "type": "scatterpolargl"
           }
          ],
          "scatterternary": [
           {
            "marker": {
             "colorbar": {
              "outlinewidth": 0,
              "ticks": ""
             }
            },
            "type": "scatterternary"
           }
          ],
          "surface": [
           {
            "colorbar": {
             "outlinewidth": 0,
             "ticks": ""
            },
            "colorscale": [
             [
              0,
              "#0d0887"
             ],
             [
              0.1111111111111111,
              "#46039f"
             ],
             [
              0.2222222222222222,
              "#7201a8"
             ],
             [
              0.3333333333333333,
              "#9c179e"
             ],
             [
              0.4444444444444444,
              "#bd3786"
             ],
             [
              0.5555555555555556,
              "#d8576b"
             ],
             [
              0.6666666666666666,
              "#ed7953"
             ],
             [
              0.7777777777777778,
              "#fb9f3a"
             ],
             [
              0.8888888888888888,
              "#fdca26"
             ],
             [
              1,
              "#f0f921"
             ]
            ],
            "type": "surface"
           }
          ],
          "table": [
           {
            "cells": {
             "fill": {
              "color": "#EBF0F8"
             },
             "line": {
              "color": "white"
             }
            },
            "header": {
             "fill": {
              "color": "#C8D4E3"
             },
             "line": {
              "color": "white"
             }
            },
            "type": "table"
           }
          ]
         },
         "layout": {
          "annotationdefaults": {
           "arrowcolor": "#2a3f5f",
           "arrowhead": 0,
           "arrowwidth": 1
          },
          "coloraxis": {
           "colorbar": {
            "outlinewidth": 0,
            "ticks": ""
           }
          },
          "colorscale": {
           "diverging": [
            [
             0,
             "#8e0152"
            ],
            [
             0.1,
             "#c51b7d"
            ],
            [
             0.2,
             "#de77ae"
            ],
            [
             0.3,
             "#f1b6da"
            ],
            [
             0.4,
             "#fde0ef"
            ],
            [
             0.5,
             "#f7f7f7"
            ],
            [
             0.6,
             "#e6f5d0"
            ],
            [
             0.7,
             "#b8e186"
            ],
            [
             0.8,
             "#7fbc41"
            ],
            [
             0.9,
             "#4d9221"
            ],
            [
             1,
             "#276419"
            ]
           ],
           "sequential": [
            [
             0,
             "#0d0887"
            ],
            [
             0.1111111111111111,
             "#46039f"
            ],
            [
             0.2222222222222222,
             "#7201a8"
            ],
            [
             0.3333333333333333,
             "#9c179e"
            ],
            [
             0.4444444444444444,
             "#bd3786"
            ],
            [
             0.5555555555555556,
             "#d8576b"
            ],
            [
             0.6666666666666666,
             "#ed7953"
            ],
            [
             0.7777777777777778,
             "#fb9f3a"
            ],
            [
             0.8888888888888888,
             "#fdca26"
            ],
            [
             1,
             "#f0f921"
            ]
           ],
           "sequentialminus": [
            [
             0,
             "#0d0887"
            ],
            [
             0.1111111111111111,
             "#46039f"
            ],
            [
             0.2222222222222222,
             "#7201a8"
            ],
            [
             0.3333333333333333,
             "#9c179e"
            ],
            [
             0.4444444444444444,
             "#bd3786"
            ],
            [
             0.5555555555555556,
             "#d8576b"
            ],
            [
             0.6666666666666666,
             "#ed7953"
            ],
            [
             0.7777777777777778,
             "#fb9f3a"
            ],
            [
             0.8888888888888888,
             "#fdca26"
            ],
            [
             1,
             "#f0f921"
            ]
           ]
          },
          "colorway": [
           "#636efa",
           "#EF553B",
           "#00cc96",
           "#ab63fa",
           "#FFA15A",
           "#19d3f3",
           "#FF6692",
           "#B6E880",
           "#FF97FF",
           "#FECB52"
          ],
          "font": {
           "color": "#2a3f5f"
          },
          "geo": {
           "bgcolor": "white",
           "lakecolor": "white",
           "landcolor": "#E5ECF6",
           "showlakes": true,
           "showland": true,
           "subunitcolor": "white"
          },
          "hoverlabel": {
           "align": "left"
          },
          "hovermode": "closest",
          "mapbox": {
           "style": "light"
          },
          "paper_bgcolor": "white",
          "plot_bgcolor": "#E5ECF6",
          "polar": {
           "angularaxis": {
            "gridcolor": "white",
            "linecolor": "white",
            "ticks": ""
           },
           "bgcolor": "#E5ECF6",
           "radialaxis": {
            "gridcolor": "white",
            "linecolor": "white",
            "ticks": ""
           }
          },
          "scene": {
           "xaxis": {
            "backgroundcolor": "#E5ECF6",
            "gridcolor": "white",
            "gridwidth": 2,
            "linecolor": "white",
            "showbackground": true,
            "ticks": "",
            "zerolinecolor": "white"
           },
           "yaxis": {
            "backgroundcolor": "#E5ECF6",
            "gridcolor": "white",
            "gridwidth": 2,
            "linecolor": "white",
            "showbackground": true,
            "ticks": "",
            "zerolinecolor": "white"
           },
           "zaxis": {
            "backgroundcolor": "#E5ECF6",
            "gridcolor": "white",
            "gridwidth": 2,
            "linecolor": "white",
            "showbackground": true,
            "ticks": "",
            "zerolinecolor": "white"
           }
          },
          "shapedefaults": {
           "line": {
            "color": "#2a3f5f"
           }
          },
          "ternary": {
           "aaxis": {
            "gridcolor": "white",
            "linecolor": "white",
            "ticks": ""
           },
           "baxis": {
            "gridcolor": "white",
            "linecolor": "white",
            "ticks": ""
           },
           "bgcolor": "#E5ECF6",
           "caxis": {
            "gridcolor": "white",
            "linecolor": "white",
            "ticks": ""
           }
          },
          "title": {
           "x": 0.05
          },
          "xaxis": {
           "automargin": true,
           "gridcolor": "white",
           "linecolor": "white",
           "ticks": "",
           "title": {
            "standoff": 15
           },
           "zerolinecolor": "white",
           "zerolinewidth": 2
          },
          "yaxis": {
           "automargin": true,
           "gridcolor": "white",
           "linecolor": "white",
           "ticks": "",
           "title": {
            "standoff": 15
           },
           "zerolinecolor": "white",
           "zerolinewidth": 2
          }
         }
        },
        "title": {
         "text": "Poverty Across the US"
        }
       }
      },
      "text/html": [
       "<div>\n",
       "        \n",
       "        \n",
       "            <div id=\"6cf08a50-556a-4637-a21f-2a7416e3deef\" class=\"plotly-graph-div\" style=\"height:525px; width:100%;\"></div>\n",
       "            <script type=\"text/javascript\">\n",
       "                require([\"plotly\"], function(Plotly) {\n",
       "                    window.PLOTLYENV=window.PLOTLYENV || {};\n",
       "                    \n",
       "                if (document.getElementById(\"6cf08a50-556a-4637-a21f-2a7416e3deef\")) {\n",
       "                    Plotly.newPlot(\n",
       "                        '6cf08a50-556a-4637-a21f-2a7416e3deef',\n",
       "                        [{\"colorbar\": {\"title\": {\"text\": \"People Below Poverty Line\"}}, \"colorscale\": [[0.0, \"#440154\"], [0.1111111111111111, \"#482878\"], [0.2222222222222222, \"#3e4989\"], [0.3333333333333333, \"#31688e\"], [0.4444444444444444, \"#26828e\"], [0.5555555555555556, \"#1f9e89\"], [0.6666666666666666, \"#35b779\"], [0.7777777777777778, \"#6ece58\"], [0.8888888888888888, \"#b5de2b\"], [1.0, \"#fde725\"]], \"locationmode\": \"USA-states\", \"locations\": [\"MN\", \"MS\", \"MO\", \"MT\", \"NE\", \"NV\", \"NH\", \"NJ\", \"NM\", \"NY\", \"NC\", \"ND\", \"OH\", \"OK\", \"OR\", \"PA\", \"RI\", \"SC\", \"SD\", \"TN\", \"TX\", \"UT\", \"VT\", \"VA\", \"WV\", \"WA\", \"WI\", \"WY\", \"AL\", \"AK\", \"AZ\", \"AR\", \"CA\", \"CO\", \"CT\", \"DE\", \"DC\", \"FL\", \"GA\", \"ID\", \"HI\", \"IL\", \"IN\", \"IA\", \"KS\", \"KY\", \"LA\", \"ME\", \"MD\", \"MA\", \"MI\"], \"type\": \"choropleth\", \"z\": [547442.0, 599795.0, 837930.0, 139063.0, 213790.0, 393431.0, 102352.0, 904132.0, 410389.0, 2797985.0, 1523949.0, 79270.0, 1645986.0, 607810.0, 565247.0, 1578949.0, 133055.0, 770632.0, 113144.0, 1046508.0, 4213938.0, 309904.0, 67034.0, 893580.0, 315464.0, 821621.0, 668220.0, 63311.0, 829400.0, 77865.0, 1092192.0, 510337.0, 5487141.0, 590504.0, 348449.0, 109798.0, 109497.0, 2983851.0, 1607714.0, 228882.0, 137516.0, 1635603.0, 908359.0, 353634.0, 350280.0, 772080.0, 878394.0, 161743.0, 553496.0, 710305.0, 1457008.0]}],\n",
       "                        {\"geo\": {\"scope\": \"usa\"}, \"template\": {\"data\": {\"bar\": [{\"error_x\": {\"color\": \"#2a3f5f\"}, \"error_y\": {\"color\": \"#2a3f5f\"}, \"marker\": {\"line\": {\"color\": \"#E5ECF6\", \"width\": 0.5}}, \"type\": \"bar\"}], \"barpolar\": [{\"marker\": {\"line\": {\"color\": \"#E5ECF6\", \"width\": 0.5}}, \"type\": \"barpolar\"}], \"carpet\": [{\"aaxis\": {\"endlinecolor\": \"#2a3f5f\", \"gridcolor\": \"white\", \"linecolor\": \"white\", \"minorgridcolor\": \"white\", \"startlinecolor\": \"#2a3f5f\"}, \"baxis\": {\"endlinecolor\": \"#2a3f5f\", \"gridcolor\": \"white\", \"linecolor\": \"white\", \"minorgridcolor\": \"white\", \"startlinecolor\": \"#2a3f5f\"}, \"type\": \"carpet\"}], \"choropleth\": [{\"colorbar\": {\"outlinewidth\": 0, \"ticks\": \"\"}, \"type\": \"choropleth\"}], \"contour\": [{\"colorbar\": {\"outlinewidth\": 0, \"ticks\": \"\"}, \"colorscale\": [[0.0, \"#0d0887\"], [0.1111111111111111, \"#46039f\"], [0.2222222222222222, \"#7201a8\"], [0.3333333333333333, \"#9c179e\"], [0.4444444444444444, \"#bd3786\"], [0.5555555555555556, \"#d8576b\"], [0.6666666666666666, \"#ed7953\"], [0.7777777777777778, \"#fb9f3a\"], [0.8888888888888888, \"#fdca26\"], [1.0, \"#f0f921\"]], \"type\": \"contour\"}], \"contourcarpet\": [{\"colorbar\": {\"outlinewidth\": 0, \"ticks\": \"\"}, \"type\": \"contourcarpet\"}], \"heatmap\": [{\"colorbar\": {\"outlinewidth\": 0, \"ticks\": \"\"}, \"colorscale\": [[0.0, \"#0d0887\"], [0.1111111111111111, \"#46039f\"], [0.2222222222222222, \"#7201a8\"], [0.3333333333333333, \"#9c179e\"], [0.4444444444444444, \"#bd3786\"], [0.5555555555555556, \"#d8576b\"], [0.6666666666666666, \"#ed7953\"], [0.7777777777777778, \"#fb9f3a\"], [0.8888888888888888, \"#fdca26\"], [1.0, \"#f0f921\"]], \"type\": \"heatmap\"}], \"heatmapgl\": [{\"colorbar\": {\"outlinewidth\": 0, \"ticks\": \"\"}, \"colorscale\": [[0.0, \"#0d0887\"], [0.1111111111111111, \"#46039f\"], [0.2222222222222222, \"#7201a8\"], [0.3333333333333333, \"#9c179e\"], [0.4444444444444444, \"#bd3786\"], [0.5555555555555556, \"#d8576b\"], [0.6666666666666666, \"#ed7953\"], [0.7777777777777778, \"#fb9f3a\"], [0.8888888888888888, \"#fdca26\"], [1.0, \"#f0f921\"]], \"type\": \"heatmapgl\"}], \"histogram\": [{\"marker\": {\"colorbar\": {\"outlinewidth\": 0, \"ticks\": \"\"}}, \"type\": \"histogram\"}], \"histogram2d\": [{\"colorbar\": {\"outlinewidth\": 0, \"ticks\": \"\"}, \"colorscale\": [[0.0, \"#0d0887\"], [0.1111111111111111, \"#46039f\"], [0.2222222222222222, \"#7201a8\"], [0.3333333333333333, \"#9c179e\"], [0.4444444444444444, \"#bd3786\"], [0.5555555555555556, \"#d8576b\"], [0.6666666666666666, \"#ed7953\"], [0.7777777777777778, \"#fb9f3a\"], [0.8888888888888888, \"#fdca26\"], [1.0, \"#f0f921\"]], \"type\": \"histogram2d\"}], \"histogram2dcontour\": [{\"colorbar\": {\"outlinewidth\": 0, \"ticks\": \"\"}, \"colorscale\": [[0.0, \"#0d0887\"], [0.1111111111111111, \"#46039f\"], [0.2222222222222222, \"#7201a8\"], [0.3333333333333333, \"#9c179e\"], [0.4444444444444444, \"#bd3786\"], [0.5555555555555556, \"#d8576b\"], [0.6666666666666666, \"#ed7953\"], [0.7777777777777778, \"#fb9f3a\"], [0.8888888888888888, \"#fdca26\"], [1.0, \"#f0f921\"]], \"type\": \"histogram2dcontour\"}], \"mesh3d\": [{\"colorbar\": {\"outlinewidth\": 0, \"ticks\": \"\"}, \"type\": \"mesh3d\"}], \"parcoords\": [{\"line\": {\"colorbar\": {\"outlinewidth\": 0, \"ticks\": \"\"}}, \"type\": \"parcoords\"}], \"pie\": [{\"automargin\": true, \"type\": \"pie\"}], \"scatter\": [{\"marker\": {\"colorbar\": {\"outlinewidth\": 0, \"ticks\": \"\"}}, \"type\": \"scatter\"}], \"scatter3d\": [{\"line\": {\"colorbar\": {\"outlinewidth\": 0, \"ticks\": \"\"}}, \"marker\": {\"colorbar\": {\"outlinewidth\": 0, \"ticks\": \"\"}}, \"type\": \"scatter3d\"}], \"scattercarpet\": [{\"marker\": {\"colorbar\": {\"outlinewidth\": 0, \"ticks\": \"\"}}, \"type\": \"scattercarpet\"}], \"scattergeo\": [{\"marker\": {\"colorbar\": {\"outlinewidth\": 0, \"ticks\": \"\"}}, \"type\": \"scattergeo\"}], \"scattergl\": [{\"marker\": {\"colorbar\": {\"outlinewidth\": 0, \"ticks\": \"\"}}, \"type\": \"scattergl\"}], \"scattermapbox\": [{\"marker\": {\"colorbar\": {\"outlinewidth\": 0, \"ticks\": \"\"}}, \"type\": \"scattermapbox\"}], \"scatterpolar\": [{\"marker\": {\"colorbar\": {\"outlinewidth\": 0, \"ticks\": \"\"}}, \"type\": \"scatterpolar\"}], \"scatterpolargl\": [{\"marker\": {\"colorbar\": {\"outlinewidth\": 0, \"ticks\": \"\"}}, \"type\": \"scatterpolargl\"}], \"scatterternary\": [{\"marker\": {\"colorbar\": {\"outlinewidth\": 0, \"ticks\": \"\"}}, \"type\": \"scatterternary\"}], \"surface\": [{\"colorbar\": {\"outlinewidth\": 0, \"ticks\": \"\"}, \"colorscale\": [[0.0, \"#0d0887\"], [0.1111111111111111, \"#46039f\"], [0.2222222222222222, \"#7201a8\"], [0.3333333333333333, \"#9c179e\"], [0.4444444444444444, \"#bd3786\"], [0.5555555555555556, \"#d8576b\"], [0.6666666666666666, \"#ed7953\"], [0.7777777777777778, \"#fb9f3a\"], [0.8888888888888888, \"#fdca26\"], [1.0, \"#f0f921\"]], \"type\": \"surface\"}], \"table\": [{\"cells\": {\"fill\": {\"color\": \"#EBF0F8\"}, \"line\": {\"color\": \"white\"}}, \"header\": {\"fill\": {\"color\": \"#C8D4E3\"}, \"line\": {\"color\": \"white\"}}, \"type\": \"table\"}]}, \"layout\": {\"annotationdefaults\": {\"arrowcolor\": \"#2a3f5f\", \"arrowhead\": 0, \"arrowwidth\": 1}, \"coloraxis\": {\"colorbar\": {\"outlinewidth\": 0, \"ticks\": \"\"}}, \"colorscale\": {\"diverging\": [[0, \"#8e0152\"], [0.1, \"#c51b7d\"], [0.2, \"#de77ae\"], [0.3, \"#f1b6da\"], [0.4, \"#fde0ef\"], [0.5, \"#f7f7f7\"], [0.6, \"#e6f5d0\"], [0.7, \"#b8e186\"], [0.8, \"#7fbc41\"], [0.9, \"#4d9221\"], [1, \"#276419\"]], \"sequential\": [[0.0, \"#0d0887\"], [0.1111111111111111, \"#46039f\"], [0.2222222222222222, \"#7201a8\"], [0.3333333333333333, \"#9c179e\"], [0.4444444444444444, \"#bd3786\"], [0.5555555555555556, \"#d8576b\"], [0.6666666666666666, \"#ed7953\"], [0.7777777777777778, \"#fb9f3a\"], [0.8888888888888888, \"#fdca26\"], [1.0, \"#f0f921\"]], \"sequentialminus\": [[0.0, \"#0d0887\"], [0.1111111111111111, \"#46039f\"], [0.2222222222222222, \"#7201a8\"], [0.3333333333333333, \"#9c179e\"], [0.4444444444444444, \"#bd3786\"], [0.5555555555555556, \"#d8576b\"], [0.6666666666666666, \"#ed7953\"], [0.7777777777777778, \"#fb9f3a\"], [0.8888888888888888, \"#fdca26\"], [1.0, \"#f0f921\"]]}, \"colorway\": [\"#636efa\", \"#EF553B\", \"#00cc96\", \"#ab63fa\", \"#FFA15A\", \"#19d3f3\", \"#FF6692\", \"#B6E880\", \"#FF97FF\", \"#FECB52\"], \"font\": {\"color\": \"#2a3f5f\"}, \"geo\": {\"bgcolor\": \"white\", \"lakecolor\": \"white\", \"landcolor\": \"#E5ECF6\", \"showlakes\": true, \"showland\": true, \"subunitcolor\": \"white\"}, \"hoverlabel\": {\"align\": \"left\"}, \"hovermode\": \"closest\", \"mapbox\": {\"style\": \"light\"}, \"paper_bgcolor\": \"white\", \"plot_bgcolor\": \"#E5ECF6\", \"polar\": {\"angularaxis\": {\"gridcolor\": \"white\", \"linecolor\": \"white\", \"ticks\": \"\"}, \"bgcolor\": \"#E5ECF6\", \"radialaxis\": {\"gridcolor\": \"white\", \"linecolor\": \"white\", \"ticks\": \"\"}}, \"scene\": {\"xaxis\": {\"backgroundcolor\": \"#E5ECF6\", \"gridcolor\": \"white\", \"gridwidth\": 2, \"linecolor\": \"white\", \"showbackground\": true, \"ticks\": \"\", \"zerolinecolor\": \"white\"}, \"yaxis\": {\"backgroundcolor\": \"#E5ECF6\", \"gridcolor\": \"white\", \"gridwidth\": 2, \"linecolor\": \"white\", \"showbackground\": true, \"ticks\": \"\", \"zerolinecolor\": \"white\"}, \"zaxis\": {\"backgroundcolor\": \"#E5ECF6\", \"gridcolor\": \"white\", \"gridwidth\": 2, \"linecolor\": \"white\", \"showbackground\": true, \"ticks\": \"\", \"zerolinecolor\": \"white\"}}, \"shapedefaults\": {\"line\": {\"color\": \"#2a3f5f\"}}, \"ternary\": {\"aaxis\": {\"gridcolor\": \"white\", \"linecolor\": \"white\", \"ticks\": \"\"}, \"baxis\": {\"gridcolor\": \"white\", \"linecolor\": \"white\", \"ticks\": \"\"}, \"bgcolor\": \"#E5ECF6\", \"caxis\": {\"gridcolor\": \"white\", \"linecolor\": \"white\", \"ticks\": \"\"}}, \"title\": {\"x\": 0.05}, \"xaxis\": {\"automargin\": true, \"gridcolor\": \"white\", \"linecolor\": \"white\", \"ticks\": \"\", \"title\": {\"standoff\": 15}, \"zerolinecolor\": \"white\", \"zerolinewidth\": 2}, \"yaxis\": {\"automargin\": true, \"gridcolor\": \"white\", \"linecolor\": \"white\", \"ticks\": \"\", \"title\": {\"standoff\": 15}, \"zerolinecolor\": \"white\", \"zerolinewidth\": 2}}}, \"title\": {\"text\": \"Poverty Across the US\"}},\n",
       "                        {\"responsive\": true}\n",
       "                    ).then(function(){\n",
       "                            \n",
       "var gd = document.getElementById('6cf08a50-556a-4637-a21f-2a7416e3deef');\n",
       "var x = new MutationObserver(function (mutations, observer) {{\n",
       "        var display = window.getComputedStyle(gd).display;\n",
       "        if (!display || display === 'none') {{\n",
       "            console.log([gd, 'removed!']);\n",
       "            Plotly.purge(gd);\n",
       "            observer.disconnect();\n",
       "        }}\n",
       "}});\n",
       "\n",
       "// Listen for the removal of the full notebook cells\n",
       "var notebookContainer = gd.closest('#notebook-container');\n",
       "if (notebookContainer) {{\n",
       "    x.observe(notebookContainer, {childList: true});\n",
       "}}\n",
       "\n",
       "// Listen for the clearing of the current output cell\n",
       "var outputEl = gd.closest('.output');\n",
       "if (outputEl) {{\n",
       "    x.observe(outputEl, {childList: true});\n",
       "}}\n",
       "\n",
       "                        })\n",
       "                };\n",
       "                });\n",
       "            </script>\n",
       "        </div>"
      ]
     },
     "metadata": {},
     "output_type": "display_data"
    }
   ],
   "source": [
    "#covid by race\n",
    "merge_nototal_df = merge_df.drop(merge_df.index[52])\n",
    "merge_nototal_df = merge_nototal_df.drop(merge_df.index[28])\n",
    "fig = go.Figure(data=go.Choropleth(\n",
    "    locations=merge_nototal_df['State_y'], # Spatial coordinates\n",
    "    z = merge_nototal_df['Poverty'], # Data to be color-coded\n",
    "    locationmode = 'USA-states', # set of locations match entries in `locations`\n",
    "    colorscale = 'viridis',\n",
    "    colorbar_title = \"People Below Poverty Line\" \n",
    "))\n",
    "\n",
    "fig.update_layout(\n",
    "    title_text = 'Poverty Across the US',\n",
    "    geo_scope='usa', # limite map scope to USA\n",
    ")\n",
    "fig.write_image(\"Outputs/US_Poverty.png\")\n",
    "fig.show()\n"
   ]
  },
  {
   "cell_type": "code",
   "execution_count": 57,
   "metadata": {},
   "outputs": [
    {
     "data": {
      "application/vnd.plotly.v1+json": {
       "config": {
        "plotlyServerURL": "https://plot.ly"
       },
       "data": [
        {
         "colorbar": {
          "title": {
           "text": "People, Black or African American"
          }
         },
         "colorscale": [
          [
           0,
           "#440154"
          ],
          [
           0.1111111111111111,
           "#482878"
          ],
          [
           0.2222222222222222,
           "#3e4989"
          ],
          [
           0.3333333333333333,
           "#31688e"
          ],
          [
           0.4444444444444444,
           "#26828e"
          ],
          [
           0.5555555555555556,
           "#1f9e89"
          ],
          [
           0.6666666666666666,
           "#35b779"
          ],
          [
           0.7777777777777778,
           "#6ece58"
          ],
          [
           0.8888888888888888,
           "#b5de2b"
          ],
          [
           1,
           "#fde725"
          ]
         ],
         "locationmode": "USA-states",
         "locations": [
          "MN",
          "MS",
          "MO",
          "MT",
          "NE",
          "NV",
          "NH",
          "NJ",
          "NM",
          "NY",
          "NC",
          "ND",
          "OH",
          "OK",
          "OR",
          "PA",
          "RI",
          "SC",
          "SD",
          "TN",
          "TX",
          "UT",
          "VT",
          "VA",
          "WV",
          "WA",
          "WI",
          "WY",
          "AL",
          "AK",
          "AZ",
          "AR",
          "CA",
          "CO",
          "CT",
          "DE",
          "DC",
          "FL",
          "GA",
          "ID",
          "HI",
          "IL",
          "IN",
          "IA",
          "KS",
          "KY",
          "LA",
          "ME",
          "MD",
          "MA",
          "MI"
         ],
         "type": "choropleth",
         "z": [
          342186,
          1125834,
          704896,
          4630,
          90860,
          261123,
          20516,
          1196764,
          43006,
          3068099,
          2179622,
          20445,
          1438271,
          287959,
          77789,
          1423319,
          69254,
          1339360,
          16241,
          1117489,
          3365783,
          35862,
          8058,
          1613285,
          66728,
          269854,
          368744,
          5540,
          1293186,
          24129,
          305259,
          460970,
          2267875,
          227938,
          378262,
          209892,
          321317,
          3316376,
          3239300,
          11536,
          26266,
          1824125,
          619472,
          109911,
          169801,
          354112,
          1502916,
          17881,
          1788090,
          510558,
          1375424
         ]
        }
       ],
       "layout": {
        "geo": {
         "scope": "usa"
        },
        "template": {
         "data": {
          "bar": [
           {
            "error_x": {
             "color": "#2a3f5f"
            },
            "error_y": {
             "color": "#2a3f5f"
            },
            "marker": {
             "line": {
              "color": "#E5ECF6",
              "width": 0.5
             }
            },
            "type": "bar"
           }
          ],
          "barpolar": [
           {
            "marker": {
             "line": {
              "color": "#E5ECF6",
              "width": 0.5
             }
            },
            "type": "barpolar"
           }
          ],
          "carpet": [
           {
            "aaxis": {
             "endlinecolor": "#2a3f5f",
             "gridcolor": "white",
             "linecolor": "white",
             "minorgridcolor": "white",
             "startlinecolor": "#2a3f5f"
            },
            "baxis": {
             "endlinecolor": "#2a3f5f",
             "gridcolor": "white",
             "linecolor": "white",
             "minorgridcolor": "white",
             "startlinecolor": "#2a3f5f"
            },
            "type": "carpet"
           }
          ],
          "choropleth": [
           {
            "colorbar": {
             "outlinewidth": 0,
             "ticks": ""
            },
            "type": "choropleth"
           }
          ],
          "contour": [
           {
            "colorbar": {
             "outlinewidth": 0,
             "ticks": ""
            },
            "colorscale": [
             [
              0,
              "#0d0887"
             ],
             [
              0.1111111111111111,
              "#46039f"
             ],
             [
              0.2222222222222222,
              "#7201a8"
             ],
             [
              0.3333333333333333,
              "#9c179e"
             ],
             [
              0.4444444444444444,
              "#bd3786"
             ],
             [
              0.5555555555555556,
              "#d8576b"
             ],
             [
              0.6666666666666666,
              "#ed7953"
             ],
             [
              0.7777777777777778,
              "#fb9f3a"
             ],
             [
              0.8888888888888888,
              "#fdca26"
             ],
             [
              1,
              "#f0f921"
             ]
            ],
            "type": "contour"
           }
          ],
          "contourcarpet": [
           {
            "colorbar": {
             "outlinewidth": 0,
             "ticks": ""
            },
            "type": "contourcarpet"
           }
          ],
          "heatmap": [
           {
            "colorbar": {
             "outlinewidth": 0,
             "ticks": ""
            },
            "colorscale": [
             [
              0,
              "#0d0887"
             ],
             [
              0.1111111111111111,
              "#46039f"
             ],
             [
              0.2222222222222222,
              "#7201a8"
             ],
             [
              0.3333333333333333,
              "#9c179e"
             ],
             [
              0.4444444444444444,
              "#bd3786"
             ],
             [
              0.5555555555555556,
              "#d8576b"
             ],
             [
              0.6666666666666666,
              "#ed7953"
             ],
             [
              0.7777777777777778,
              "#fb9f3a"
             ],
             [
              0.8888888888888888,
              "#fdca26"
             ],
             [
              1,
              "#f0f921"
             ]
            ],
            "type": "heatmap"
           }
          ],
          "heatmapgl": [
           {
            "colorbar": {
             "outlinewidth": 0,
             "ticks": ""
            },
            "colorscale": [
             [
              0,
              "#0d0887"
             ],
             [
              0.1111111111111111,
              "#46039f"
             ],
             [
              0.2222222222222222,
              "#7201a8"
             ],
             [
              0.3333333333333333,
              "#9c179e"
             ],
             [
              0.4444444444444444,
              "#bd3786"
             ],
             [
              0.5555555555555556,
              "#d8576b"
             ],
             [
              0.6666666666666666,
              "#ed7953"
             ],
             [
              0.7777777777777778,
              "#fb9f3a"
             ],
             [
              0.8888888888888888,
              "#fdca26"
             ],
             [
              1,
              "#f0f921"
             ]
            ],
            "type": "heatmapgl"
           }
          ],
          "histogram": [
           {
            "marker": {
             "colorbar": {
              "outlinewidth": 0,
              "ticks": ""
             }
            },
            "type": "histogram"
           }
          ],
          "histogram2d": [
           {
            "colorbar": {
             "outlinewidth": 0,
             "ticks": ""
            },
            "colorscale": [
             [
              0,
              "#0d0887"
             ],
             [
              0.1111111111111111,
              "#46039f"
             ],
             [
              0.2222222222222222,
              "#7201a8"
             ],
             [
              0.3333333333333333,
              "#9c179e"
             ],
             [
              0.4444444444444444,
              "#bd3786"
             ],
             [
              0.5555555555555556,
              "#d8576b"
             ],
             [
              0.6666666666666666,
              "#ed7953"
             ],
             [
              0.7777777777777778,
              "#fb9f3a"
             ],
             [
              0.8888888888888888,
              "#fdca26"
             ],
             [
              1,
              "#f0f921"
             ]
            ],
            "type": "histogram2d"
           }
          ],
          "histogram2dcontour": [
           {
            "colorbar": {
             "outlinewidth": 0,
             "ticks": ""
            },
            "colorscale": [
             [
              0,
              "#0d0887"
             ],
             [
              0.1111111111111111,
              "#46039f"
             ],
             [
              0.2222222222222222,
              "#7201a8"
             ],
             [
              0.3333333333333333,
              "#9c179e"
             ],
             [
              0.4444444444444444,
              "#bd3786"
             ],
             [
              0.5555555555555556,
              "#d8576b"
             ],
             [
              0.6666666666666666,
              "#ed7953"
             ],
             [
              0.7777777777777778,
              "#fb9f3a"
             ],
             [
              0.8888888888888888,
              "#fdca26"
             ],
             [
              1,
              "#f0f921"
             ]
            ],
            "type": "histogram2dcontour"
           }
          ],
          "mesh3d": [
           {
            "colorbar": {
             "outlinewidth": 0,
             "ticks": ""
            },
            "type": "mesh3d"
           }
          ],
          "parcoords": [
           {
            "line": {
             "colorbar": {
              "outlinewidth": 0,
              "ticks": ""
             }
            },
            "type": "parcoords"
           }
          ],
          "pie": [
           {
            "automargin": true,
            "type": "pie"
           }
          ],
          "scatter": [
           {
            "marker": {
             "colorbar": {
              "outlinewidth": 0,
              "ticks": ""
             }
            },
            "type": "scatter"
           }
          ],
          "scatter3d": [
           {
            "line": {
             "colorbar": {
              "outlinewidth": 0,
              "ticks": ""
             }
            },
            "marker": {
             "colorbar": {
              "outlinewidth": 0,
              "ticks": ""
             }
            },
            "type": "scatter3d"
           }
          ],
          "scattercarpet": [
           {
            "marker": {
             "colorbar": {
              "outlinewidth": 0,
              "ticks": ""
             }
            },
            "type": "scattercarpet"
           }
          ],
          "scattergeo": [
           {
            "marker": {
             "colorbar": {
              "outlinewidth": 0,
              "ticks": ""
             }
            },
            "type": "scattergeo"
           }
          ],
          "scattergl": [
           {
            "marker": {
             "colorbar": {
              "outlinewidth": 0,
              "ticks": ""
             }
            },
            "type": "scattergl"
           }
          ],
          "scattermapbox": [
           {
            "marker": {
             "colorbar": {
              "outlinewidth": 0,
              "ticks": ""
             }
            },
            "type": "scattermapbox"
           }
          ],
          "scatterpolar": [
           {
            "marker": {
             "colorbar": {
              "outlinewidth": 0,
              "ticks": ""
             }
            },
            "type": "scatterpolar"
           }
          ],
          "scatterpolargl": [
           {
            "marker": {
             "colorbar": {
              "outlinewidth": 0,
              "ticks": ""
             }
            },
            "type": "scatterpolargl"
           }
          ],
          "scatterternary": [
           {
            "marker": {
             "colorbar": {
              "outlinewidth": 0,
              "ticks": ""
             }
            },
            "type": "scatterternary"
           }
          ],
          "surface": [
           {
            "colorbar": {
             "outlinewidth": 0,
             "ticks": ""
            },
            "colorscale": [
             [
              0,
              "#0d0887"
             ],
             [
              0.1111111111111111,
              "#46039f"
             ],
             [
              0.2222222222222222,
              "#7201a8"
             ],
             [
              0.3333333333333333,
              "#9c179e"
             ],
             [
              0.4444444444444444,
              "#bd3786"
             ],
             [
              0.5555555555555556,
              "#d8576b"
             ],
             [
              0.6666666666666666,
              "#ed7953"
             ],
             [
              0.7777777777777778,
              "#fb9f3a"
             ],
             [
              0.8888888888888888,
              "#fdca26"
             ],
             [
              1,
              "#f0f921"
             ]
            ],
            "type": "surface"
           }
          ],
          "table": [
           {
            "cells": {
             "fill": {
              "color": "#EBF0F8"
             },
             "line": {
              "color": "white"
             }
            },
            "header": {
             "fill": {
              "color": "#C8D4E3"
             },
             "line": {
              "color": "white"
             }
            },
            "type": "table"
           }
          ]
         },
         "layout": {
          "annotationdefaults": {
           "arrowcolor": "#2a3f5f",
           "arrowhead": 0,
           "arrowwidth": 1
          },
          "coloraxis": {
           "colorbar": {
            "outlinewidth": 0,
            "ticks": ""
           }
          },
          "colorscale": {
           "diverging": [
            [
             0,
             "#8e0152"
            ],
            [
             0.1,
             "#c51b7d"
            ],
            [
             0.2,
             "#de77ae"
            ],
            [
             0.3,
             "#f1b6da"
            ],
            [
             0.4,
             "#fde0ef"
            ],
            [
             0.5,
             "#f7f7f7"
            ],
            [
             0.6,
             "#e6f5d0"
            ],
            [
             0.7,
             "#b8e186"
            ],
            [
             0.8,
             "#7fbc41"
            ],
            [
             0.9,
             "#4d9221"
            ],
            [
             1,
             "#276419"
            ]
           ],
           "sequential": [
            [
             0,
             "#0d0887"
            ],
            [
             0.1111111111111111,
             "#46039f"
            ],
            [
             0.2222222222222222,
             "#7201a8"
            ],
            [
             0.3333333333333333,
             "#9c179e"
            ],
            [
             0.4444444444444444,
             "#bd3786"
            ],
            [
             0.5555555555555556,
             "#d8576b"
            ],
            [
             0.6666666666666666,
             "#ed7953"
            ],
            [
             0.7777777777777778,
             "#fb9f3a"
            ],
            [
             0.8888888888888888,
             "#fdca26"
            ],
            [
             1,
             "#f0f921"
            ]
           ],
           "sequentialminus": [
            [
             0,
             "#0d0887"
            ],
            [
             0.1111111111111111,
             "#46039f"
            ],
            [
             0.2222222222222222,
             "#7201a8"
            ],
            [
             0.3333333333333333,
             "#9c179e"
            ],
            [
             0.4444444444444444,
             "#bd3786"
            ],
            [
             0.5555555555555556,
             "#d8576b"
            ],
            [
             0.6666666666666666,
             "#ed7953"
            ],
            [
             0.7777777777777778,
             "#fb9f3a"
            ],
            [
             0.8888888888888888,
             "#fdca26"
            ],
            [
             1,
             "#f0f921"
            ]
           ]
          },
          "colorway": [
           "#636efa",
           "#EF553B",
           "#00cc96",
           "#ab63fa",
           "#FFA15A",
           "#19d3f3",
           "#FF6692",
           "#B6E880",
           "#FF97FF",
           "#FECB52"
          ],
          "font": {
           "color": "#2a3f5f"
          },
          "geo": {
           "bgcolor": "white",
           "lakecolor": "white",
           "landcolor": "#E5ECF6",
           "showlakes": true,
           "showland": true,
           "subunitcolor": "white"
          },
          "hoverlabel": {
           "align": "left"
          },
          "hovermode": "closest",
          "mapbox": {
           "style": "light"
          },
          "paper_bgcolor": "white",
          "plot_bgcolor": "#E5ECF6",
          "polar": {
           "angularaxis": {
            "gridcolor": "white",
            "linecolor": "white",
            "ticks": ""
           },
           "bgcolor": "#E5ECF6",
           "radialaxis": {
            "gridcolor": "white",
            "linecolor": "white",
            "ticks": ""
           }
          },
          "scene": {
           "xaxis": {
            "backgroundcolor": "#E5ECF6",
            "gridcolor": "white",
            "gridwidth": 2,
            "linecolor": "white",
            "showbackground": true,
            "ticks": "",
            "zerolinecolor": "white"
           },
           "yaxis": {
            "backgroundcolor": "#E5ECF6",
            "gridcolor": "white",
            "gridwidth": 2,
            "linecolor": "white",
            "showbackground": true,
            "ticks": "",
            "zerolinecolor": "white"
           },
           "zaxis": {
            "backgroundcolor": "#E5ECF6",
            "gridcolor": "white",
            "gridwidth": 2,
            "linecolor": "white",
            "showbackground": true,
            "ticks": "",
            "zerolinecolor": "white"
           }
          },
          "shapedefaults": {
           "line": {
            "color": "#2a3f5f"
           }
          },
          "ternary": {
           "aaxis": {
            "gridcolor": "white",
            "linecolor": "white",
            "ticks": ""
           },
           "baxis": {
            "gridcolor": "white",
            "linecolor": "white",
            "ticks": ""
           },
           "bgcolor": "#E5ECF6",
           "caxis": {
            "gridcolor": "white",
            "linecolor": "white",
            "ticks": ""
           }
          },
          "title": {
           "x": 0.05
          },
          "xaxis": {
           "automargin": true,
           "gridcolor": "white",
           "linecolor": "white",
           "ticks": "",
           "title": {
            "standoff": 15
           },
           "zerolinecolor": "white",
           "zerolinewidth": 2
          },
          "yaxis": {
           "automargin": true,
           "gridcolor": "white",
           "linecolor": "white",
           "ticks": "",
           "title": {
            "standoff": 15
           },
           "zerolinecolor": "white",
           "zerolinewidth": 2
          }
         }
        },
        "title": {
         "text": "Population, Black or African American"
        }
       }
      },
      "text/html": [
       "<div>\n",
       "        \n",
       "        \n",
       "            <div id=\"abcd1086-17b9-4e60-b5b2-71813290abae\" class=\"plotly-graph-div\" style=\"height:525px; width:100%;\"></div>\n",
       "            <script type=\"text/javascript\">\n",
       "                require([\"plotly\"], function(Plotly) {\n",
       "                    window.PLOTLYENV=window.PLOTLYENV || {};\n",
       "                    \n",
       "                if (document.getElementById(\"abcd1086-17b9-4e60-b5b2-71813290abae\")) {\n",
       "                    Plotly.newPlot(\n",
       "                        'abcd1086-17b9-4e60-b5b2-71813290abae',\n",
       "                        [{\"colorbar\": {\"title\": {\"text\": \"People, Black or African American\"}}, \"colorscale\": [[0.0, \"#440154\"], [0.1111111111111111, \"#482878\"], [0.2222222222222222, \"#3e4989\"], [0.3333333333333333, \"#31688e\"], [0.4444444444444444, \"#26828e\"], [0.5555555555555556, \"#1f9e89\"], [0.6666666666666666, \"#35b779\"], [0.7777777777777778, \"#6ece58\"], [0.8888888888888888, \"#b5de2b\"], [1.0, \"#fde725\"]], \"locationmode\": \"USA-states\", \"locations\": [\"MN\", \"MS\", \"MO\", \"MT\", \"NE\", \"NV\", \"NH\", \"NJ\", \"NM\", \"NY\", \"NC\", \"ND\", \"OH\", \"OK\", \"OR\", \"PA\", \"RI\", \"SC\", \"SD\", \"TN\", \"TX\", \"UT\", \"VT\", \"VA\", \"WV\", \"WA\", \"WI\", \"WY\", \"AL\", \"AK\", \"AZ\", \"AR\", \"CA\", \"CO\", \"CT\", \"DE\", \"DC\", \"FL\", \"GA\", \"ID\", \"HI\", \"IL\", \"IN\", \"IA\", \"KS\", \"KY\", \"LA\", \"ME\", \"MD\", \"MA\", \"MI\"], \"type\": \"choropleth\", \"z\": [342186.0, 1125834.0, 704896.0, 4630.0, 90860.0, 261123.0, 20516.0, 1196764.0, 43006.0, 3068099.0, 2179622.0, 20445.0, 1438271.0, 287959.0, 77789.0, 1423319.0, 69254.0, 1339360.0, 16241.0, 1117489.0, 3365783.0, 35862.0, 8058.0, 1613285.0, 66728.0, 269854.0, 368744.0, 5540.0, 1293186.0, 24129.0, 305259.0, 460970.0, 2267875.0, 227938.0, 378262.0, 209892.0, 321317.0, 3316376.0, 3239300.0, 11536.0, 26266.0, 1824125.0, 619472.0, 109911.0, 169801.0, 354112.0, 1502916.0, 17881.0, 1788090.0, 510558.0, 1375424.0]}],\n",
       "                        {\"geo\": {\"scope\": \"usa\"}, \"template\": {\"data\": {\"bar\": [{\"error_x\": {\"color\": \"#2a3f5f\"}, \"error_y\": {\"color\": \"#2a3f5f\"}, \"marker\": {\"line\": {\"color\": \"#E5ECF6\", \"width\": 0.5}}, \"type\": \"bar\"}], \"barpolar\": [{\"marker\": {\"line\": {\"color\": \"#E5ECF6\", \"width\": 0.5}}, \"type\": \"barpolar\"}], \"carpet\": [{\"aaxis\": {\"endlinecolor\": \"#2a3f5f\", \"gridcolor\": \"white\", \"linecolor\": \"white\", \"minorgridcolor\": \"white\", \"startlinecolor\": \"#2a3f5f\"}, \"baxis\": {\"endlinecolor\": \"#2a3f5f\", \"gridcolor\": \"white\", \"linecolor\": \"white\", \"minorgridcolor\": \"white\", \"startlinecolor\": \"#2a3f5f\"}, \"type\": \"carpet\"}], \"choropleth\": [{\"colorbar\": {\"outlinewidth\": 0, \"ticks\": \"\"}, \"type\": \"choropleth\"}], \"contour\": [{\"colorbar\": {\"outlinewidth\": 0, \"ticks\": \"\"}, \"colorscale\": [[0.0, \"#0d0887\"], [0.1111111111111111, \"#46039f\"], [0.2222222222222222, \"#7201a8\"], [0.3333333333333333, \"#9c179e\"], [0.4444444444444444, \"#bd3786\"], [0.5555555555555556, \"#d8576b\"], [0.6666666666666666, \"#ed7953\"], [0.7777777777777778, \"#fb9f3a\"], [0.8888888888888888, \"#fdca26\"], [1.0, \"#f0f921\"]], \"type\": \"contour\"}], \"contourcarpet\": [{\"colorbar\": {\"outlinewidth\": 0, \"ticks\": \"\"}, \"type\": \"contourcarpet\"}], \"heatmap\": [{\"colorbar\": {\"outlinewidth\": 0, \"ticks\": \"\"}, \"colorscale\": [[0.0, \"#0d0887\"], [0.1111111111111111, \"#46039f\"], [0.2222222222222222, \"#7201a8\"], [0.3333333333333333, \"#9c179e\"], [0.4444444444444444, \"#bd3786\"], [0.5555555555555556, \"#d8576b\"], [0.6666666666666666, \"#ed7953\"], [0.7777777777777778, \"#fb9f3a\"], [0.8888888888888888, \"#fdca26\"], [1.0, \"#f0f921\"]], \"type\": \"heatmap\"}], \"heatmapgl\": [{\"colorbar\": {\"outlinewidth\": 0, \"ticks\": \"\"}, \"colorscale\": [[0.0, \"#0d0887\"], [0.1111111111111111, \"#46039f\"], [0.2222222222222222, \"#7201a8\"], [0.3333333333333333, \"#9c179e\"], [0.4444444444444444, \"#bd3786\"], [0.5555555555555556, \"#d8576b\"], [0.6666666666666666, \"#ed7953\"], [0.7777777777777778, \"#fb9f3a\"], [0.8888888888888888, \"#fdca26\"], [1.0, \"#f0f921\"]], \"type\": \"heatmapgl\"}], \"histogram\": [{\"marker\": {\"colorbar\": {\"outlinewidth\": 0, \"ticks\": \"\"}}, \"type\": \"histogram\"}], \"histogram2d\": [{\"colorbar\": {\"outlinewidth\": 0, \"ticks\": \"\"}, \"colorscale\": [[0.0, \"#0d0887\"], [0.1111111111111111, \"#46039f\"], [0.2222222222222222, \"#7201a8\"], [0.3333333333333333, \"#9c179e\"], [0.4444444444444444, \"#bd3786\"], [0.5555555555555556, \"#d8576b\"], [0.6666666666666666, \"#ed7953\"], [0.7777777777777778, \"#fb9f3a\"], [0.8888888888888888, \"#fdca26\"], [1.0, \"#f0f921\"]], \"type\": \"histogram2d\"}], \"histogram2dcontour\": [{\"colorbar\": {\"outlinewidth\": 0, \"ticks\": \"\"}, \"colorscale\": [[0.0, \"#0d0887\"], [0.1111111111111111, \"#46039f\"], [0.2222222222222222, \"#7201a8\"], [0.3333333333333333, \"#9c179e\"], [0.4444444444444444, \"#bd3786\"], [0.5555555555555556, \"#d8576b\"], [0.6666666666666666, \"#ed7953\"], [0.7777777777777778, \"#fb9f3a\"], [0.8888888888888888, \"#fdca26\"], [1.0, \"#f0f921\"]], \"type\": \"histogram2dcontour\"}], \"mesh3d\": [{\"colorbar\": {\"outlinewidth\": 0, \"ticks\": \"\"}, \"type\": \"mesh3d\"}], \"parcoords\": [{\"line\": {\"colorbar\": {\"outlinewidth\": 0, \"ticks\": \"\"}}, \"type\": \"parcoords\"}], \"pie\": [{\"automargin\": true, \"type\": \"pie\"}], \"scatter\": [{\"marker\": {\"colorbar\": {\"outlinewidth\": 0, \"ticks\": \"\"}}, \"type\": \"scatter\"}], \"scatter3d\": [{\"line\": {\"colorbar\": {\"outlinewidth\": 0, \"ticks\": \"\"}}, \"marker\": {\"colorbar\": {\"outlinewidth\": 0, \"ticks\": \"\"}}, \"type\": \"scatter3d\"}], \"scattercarpet\": [{\"marker\": {\"colorbar\": {\"outlinewidth\": 0, \"ticks\": \"\"}}, \"type\": \"scattercarpet\"}], \"scattergeo\": [{\"marker\": {\"colorbar\": {\"outlinewidth\": 0, \"ticks\": \"\"}}, \"type\": \"scattergeo\"}], \"scattergl\": [{\"marker\": {\"colorbar\": {\"outlinewidth\": 0, \"ticks\": \"\"}}, \"type\": \"scattergl\"}], \"scattermapbox\": [{\"marker\": {\"colorbar\": {\"outlinewidth\": 0, \"ticks\": \"\"}}, \"type\": \"scattermapbox\"}], \"scatterpolar\": [{\"marker\": {\"colorbar\": {\"outlinewidth\": 0, \"ticks\": \"\"}}, \"type\": \"scatterpolar\"}], \"scatterpolargl\": [{\"marker\": {\"colorbar\": {\"outlinewidth\": 0, \"ticks\": \"\"}}, \"type\": \"scatterpolargl\"}], \"scatterternary\": [{\"marker\": {\"colorbar\": {\"outlinewidth\": 0, \"ticks\": \"\"}}, \"type\": \"scatterternary\"}], \"surface\": [{\"colorbar\": {\"outlinewidth\": 0, \"ticks\": \"\"}, \"colorscale\": [[0.0, \"#0d0887\"], [0.1111111111111111, \"#46039f\"], [0.2222222222222222, \"#7201a8\"], [0.3333333333333333, \"#9c179e\"], [0.4444444444444444, \"#bd3786\"], [0.5555555555555556, \"#d8576b\"], [0.6666666666666666, \"#ed7953\"], [0.7777777777777778, \"#fb9f3a\"], [0.8888888888888888, \"#fdca26\"], [1.0, \"#f0f921\"]], \"type\": \"surface\"}], \"table\": [{\"cells\": {\"fill\": {\"color\": \"#EBF0F8\"}, \"line\": {\"color\": \"white\"}}, \"header\": {\"fill\": {\"color\": \"#C8D4E3\"}, \"line\": {\"color\": \"white\"}}, \"type\": \"table\"}]}, \"layout\": {\"annotationdefaults\": {\"arrowcolor\": \"#2a3f5f\", \"arrowhead\": 0, \"arrowwidth\": 1}, \"coloraxis\": {\"colorbar\": {\"outlinewidth\": 0, \"ticks\": \"\"}}, \"colorscale\": {\"diverging\": [[0, \"#8e0152\"], [0.1, \"#c51b7d\"], [0.2, \"#de77ae\"], [0.3, \"#f1b6da\"], [0.4, \"#fde0ef\"], [0.5, \"#f7f7f7\"], [0.6, \"#e6f5d0\"], [0.7, \"#b8e186\"], [0.8, \"#7fbc41\"], [0.9, \"#4d9221\"], [1, \"#276419\"]], \"sequential\": [[0.0, \"#0d0887\"], [0.1111111111111111, \"#46039f\"], [0.2222222222222222, \"#7201a8\"], [0.3333333333333333, \"#9c179e\"], [0.4444444444444444, \"#bd3786\"], [0.5555555555555556, \"#d8576b\"], [0.6666666666666666, \"#ed7953\"], [0.7777777777777778, \"#fb9f3a\"], [0.8888888888888888, \"#fdca26\"], [1.0, \"#f0f921\"]], \"sequentialminus\": [[0.0, \"#0d0887\"], [0.1111111111111111, \"#46039f\"], [0.2222222222222222, \"#7201a8\"], [0.3333333333333333, \"#9c179e\"], [0.4444444444444444, \"#bd3786\"], [0.5555555555555556, \"#d8576b\"], [0.6666666666666666, \"#ed7953\"], [0.7777777777777778, \"#fb9f3a\"], [0.8888888888888888, \"#fdca26\"], [1.0, \"#f0f921\"]]}, \"colorway\": [\"#636efa\", \"#EF553B\", \"#00cc96\", \"#ab63fa\", \"#FFA15A\", \"#19d3f3\", \"#FF6692\", \"#B6E880\", \"#FF97FF\", \"#FECB52\"], \"font\": {\"color\": \"#2a3f5f\"}, \"geo\": {\"bgcolor\": \"white\", \"lakecolor\": \"white\", \"landcolor\": \"#E5ECF6\", \"showlakes\": true, \"showland\": true, \"subunitcolor\": \"white\"}, \"hoverlabel\": {\"align\": \"left\"}, \"hovermode\": \"closest\", \"mapbox\": {\"style\": \"light\"}, \"paper_bgcolor\": \"white\", \"plot_bgcolor\": \"#E5ECF6\", \"polar\": {\"angularaxis\": {\"gridcolor\": \"white\", \"linecolor\": \"white\", \"ticks\": \"\"}, \"bgcolor\": \"#E5ECF6\", \"radialaxis\": {\"gridcolor\": \"white\", \"linecolor\": \"white\", \"ticks\": \"\"}}, \"scene\": {\"xaxis\": {\"backgroundcolor\": \"#E5ECF6\", \"gridcolor\": \"white\", \"gridwidth\": 2, \"linecolor\": \"white\", \"showbackground\": true, \"ticks\": \"\", \"zerolinecolor\": \"white\"}, \"yaxis\": {\"backgroundcolor\": \"#E5ECF6\", \"gridcolor\": \"white\", \"gridwidth\": 2, \"linecolor\": \"white\", \"showbackground\": true, \"ticks\": \"\", \"zerolinecolor\": \"white\"}, \"zaxis\": {\"backgroundcolor\": \"#E5ECF6\", \"gridcolor\": \"white\", \"gridwidth\": 2, \"linecolor\": \"white\", \"showbackground\": true, \"ticks\": \"\", \"zerolinecolor\": \"white\"}}, \"shapedefaults\": {\"line\": {\"color\": \"#2a3f5f\"}}, \"ternary\": {\"aaxis\": {\"gridcolor\": \"white\", \"linecolor\": \"white\", \"ticks\": \"\"}, \"baxis\": {\"gridcolor\": \"white\", \"linecolor\": \"white\", \"ticks\": \"\"}, \"bgcolor\": \"#E5ECF6\", \"caxis\": {\"gridcolor\": \"white\", \"linecolor\": \"white\", \"ticks\": \"\"}}, \"title\": {\"x\": 0.05}, \"xaxis\": {\"automargin\": true, \"gridcolor\": \"white\", \"linecolor\": \"white\", \"ticks\": \"\", \"title\": {\"standoff\": 15}, \"zerolinecolor\": \"white\", \"zerolinewidth\": 2}, \"yaxis\": {\"automargin\": true, \"gridcolor\": \"white\", \"linecolor\": \"white\", \"ticks\": \"\", \"title\": {\"standoff\": 15}, \"zerolinecolor\": \"white\", \"zerolinewidth\": 2}}}, \"title\": {\"text\": \"Population, Black or African American\"}},\n",
       "                        {\"responsive\": true}\n",
       "                    ).then(function(){\n",
       "                            \n",
       "var gd = document.getElementById('abcd1086-17b9-4e60-b5b2-71813290abae');\n",
       "var x = new MutationObserver(function (mutations, observer) {{\n",
       "        var display = window.getComputedStyle(gd).display;\n",
       "        if (!display || display === 'none') {{\n",
       "            console.log([gd, 'removed!']);\n",
       "            Plotly.purge(gd);\n",
       "            observer.disconnect();\n",
       "        }}\n",
       "}});\n",
       "\n",
       "// Listen for the removal of the full notebook cells\n",
       "var notebookContainer = gd.closest('#notebook-container');\n",
       "if (notebookContainer) {{\n",
       "    x.observe(notebookContainer, {childList: true});\n",
       "}}\n",
       "\n",
       "// Listen for the clearing of the current output cell\n",
       "var outputEl = gd.closest('.output');\n",
       "if (outputEl) {{\n",
       "    x.observe(outputEl, {childList: true});\n",
       "}}\n",
       "\n",
       "                        })\n",
       "                };\n",
       "                });\n",
       "            </script>\n",
       "        </div>"
      ]
     },
     "metadata": {},
     "output_type": "display_data"
    }
   ],
   "source": [
    "fig = go.Figure(data=go.Choropleth(\n",
    "    locations=merge_nototal_df['State_y'], # Spatial coordinates\n",
    "    z = merge_nototal_df['Population Black'].astype(float), # Data to be color-coded\n",
    "    locationmode = 'USA-states', # set of locations match entries in `locations`\n",
    "    colorscale = 'viridis',\n",
    "    colorbar_title = \"People, Black or African American\",\n",
    "))\n",
    "\n",
    "fig.update_layout(\n",
    "    title_text = 'Population, Black or African American',\n",
    "    geo_scope='usa', # limite map scope to USA\n",
    ")\n",
    "fig.write_image(\"Outputs/US_Population_Black.png\")\n",
    "fig.show()\n"
   ]
  },
  {
   "cell_type": "code",
   "execution_count": 102,
   "metadata": {
    "scrolled": true
   },
   "outputs": [
    {
     "data": {
      "image/png": "[encoded data removed]",
      "text/plain": [
       "<Figure size 432x288 with 1 Axes>"
      ]
     },
     "metadata": {
      "needs_background": "light"
     },
     "output_type": "display_data"
    }
   ],
   "source": [
    "#get correlation between population and poverty\n",
    "correlation=sts.pearsonr(merge_nototal_df['Population Black'],merge_nototal_df['Poverty'])\n",
    "#Regression of poverty\n",
    "slope,intercept,rvalue,pvalue,stderr=sts.linregress(merge_nototal_df['Population Black'],merge_nototal_df['Poverty'])\n",
    "trendline=slope*merge_nototal_df['Population Black']+intercept\n",
    "\n",
    "#scatter plot of black populationa and poverty\n",
    "plt.scatter(merge_nototal_df['Population Black'],merge_nototal_df['Poverty'],edgecolors=\"black\",zorder=3)\n",
    "plt.plot(merge_nototal_df['Population Black'],trendline)\n",
    "plt.annotate(f\"Y={round(slope,2)}*x+{round(intercept,2)}\",(500000,2500000),color=\"red\")\n",
    "plt.annotate(f\"The Correlation Coefficiant is {round(correlation[0],2)}\",(500000,2250000),color=\"red\")\n",
    "plt.annotate(f\"The R Squared value is {round(rvalue**2,2)}\",(500000,2000000),color=\"red\")\n",
    "plt.title(\"Population, Black or African American vs. Population Under Poverty Line\")\n",
    "plt.xlabel(\"Population, Black or African American\")\n",
    "plt.ylabel(\"Population Under Poverty Line\")\n",
    "plt.xticks(rotation=45)\n",
    "\n",
    "plt.grid(linestyle=\"dashed\", zorder=0)\n",
    "plt.savefig(\"Outputs/PovertyVsPop.png\", bbox_inches=\"tight\")\n",
    "plt.show()"
   ]
  },
  {
   "cell_type": "code",
   "execution_count": 103,
   "metadata": {},
   "outputs": [
    {
     "data": {
      "image/png": "[encoded data removed]",
      "text/plain": [
       "<Figure size 432x288 with 1 Axes>"
      ]
     },
     "metadata": {
      "needs_background": "light"
     },
     "output_type": "display_data"
    }
   ],
   "source": [
    "#set up lists for plots \n",
    "xlabels=['Black', 'White', 'Hispanic', 'Asian', 'American Indian', 'Pacific Islander', 'Multiracial']\n",
    "cases_race=[black_cases, white_cases, latinX_cases, asian_cases, AIAN_cases, NHPI_cases, multirace_cases]\n",
    "deaths_race=[black_deaths, white_deaths, latinX_deaths, asian_deaths, AIAN_deaths, NHPI_deaths, multirace_deaths]\n",
    "\n",
    "#calculate average number of cases across all races\n",
    "average_cases= np.mean(cases_race)\n",
    "\n",
    "#plot bar graph cases by race\n",
    "x_axis = np.arange(len(xlabels))\n",
    "plt.bar(x_axis, cases_race , align=\"center\", color = 'slategrey', edgecolor='midnightblue')\n",
    "tick_locations = [value for value in x_axis]\n",
    "plt.xticks(tick_locations, xlabels, rotation=90)\n",
    "plt.plot([-1, 7], [average_cases, average_cases], 'k--', label='Average Cases')\n",
    "plt.legend()\n",
    "plt.title(\"COVID Cases by Race\")\n",
    "plt.xlabel(\"Race or Ethnicity\")\n",
    "plt.ylabel(\"Cases per 1,000 People\")\n",
    "plt.savefig(\"Outputs/CasesByRace.png\", bbox_inches=\"tight\")\n",
    "plt.show()"
   ]
  },
  {
   "cell_type": "code",
   "execution_count": 104,
   "metadata": {},
   "outputs": [
    {
     "data": {
      "image/png": "[encoded data removed]",
      "text/plain": [
       "<Figure size 432x288 with 1 Axes>"
      ]
     },
     "metadata": {
      "needs_background": "light"
     },
     "output_type": "display_data"
    }
   ],
   "source": [
    "#calculate average number of cases across all races\n",
    "average_cases= np.mean(deaths_race)\n",
    "\n",
    "#plot bar graph cases by race\n",
    "x_axis = np.arange(len(xlabels))\n",
    "plt.bar(x_axis, deaths_race , align=\"center\", color = 'indianred', edgecolor='grey')\n",
    "tick_locations = [value for value in x_axis]\n",
    "plt.xticks(tick_locations, xlabels, rotation=90)\n",
    "plt.plot([-1, 7], [average_cases, average_cases], 'k--', label='Average Cases')\n",
    "plt.legend()\n",
    "plt.title(\"COVID-19 Deaths by Race\")\n",
    "plt.xlabel(\"Race or Ethnicity\")\n",
    "plt.ylabel(\"Deaths per 100,000 People\")\n",
    "plt.savefig(\"Outputs/DeathsByRace.png\", bbox_inches=\"tight\")\n",
    "plt.show()"
   ]
  },
  {
   "cell_type": "code",
   "execution_count": null,
   "metadata": {},
   "outputs": [],
   "source": []
  }
 ],
 "metadata": {
  "kernelspec": {
   "display_name": "Python 3",
   "language": "python",
   "name": "python3"
  },
  "language_info": {
   "codemirror_mode": {
    "name": "ipython",
    "version": 3
   },
   "file_extension": ".py",
   "mimetype": "text/x-python",
   "name": "python",
   "nbconvert_exporter": "python",
   "pygments_lexer": "ipython3",
   "version": "3.7.6"
  }
 },
 "nbformat": 4,
 "nbformat_minor": 4
}
